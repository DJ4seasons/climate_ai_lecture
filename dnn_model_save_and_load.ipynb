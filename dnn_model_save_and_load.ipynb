{
 "cells": [
  {
   "cell_type": "code",
   "execution_count": 78,
   "id": "f557bafd-6096-400d-9067-9459dd74a037",
   "metadata": {},
   "outputs": [],
   "source": [
    "#let's get into the real job!\n",
    "#check whether tensorflow is correctly installed\n",
    "import tensorflow as tf"
   ]
  },
  {
   "cell_type": "code",
   "execution_count": 79,
   "id": "7e2c8ca6-4d8f-4ef8-9158-55fc4606d1b0",
   "metadata": {},
   "outputs": [
    {
     "name": "stdout",
     "output_type": "stream",
     "text": [
      "2.0.0\n"
     ]
    }
   ],
   "source": [
    "print(tf.__version__)"
   ]
  },
  {
   "cell_type": "code",
   "execution_count": 80,
   "id": "1fb0d506-b41f-4a24-a8b2-4ec747e2a87f",
   "metadata": {},
   "outputs": [],
   "source": [
    "#load data \n",
    "import numpy as np\n",
    "x_train, y_train = np.load(\"train_x.npy\"), np.load(\"train_y.npy\")\n",
    "x_test, y_test = np.load(\"test_x.npy\"), np.load(\"test_y.npy\")"
   ]
  },
  {
   "cell_type": "code",
   "execution_count": 81,
   "id": "6df51c50-7782-48dc-bd94-a73b87e72bff",
   "metadata": {},
   "outputs": [
    {
     "name": "stdout",
     "output_type": "stream",
     "text": [
      "(19257, 24) (19257, 1) (4815, 24) (4815, 1)\n"
     ]
    }
   ],
   "source": [
    "print(np.shape(x_train), np.shape(y_train), np.shape(x_test), np.shape(y_test))"
   ]
  },
  {
   "cell_type": "code",
   "execution_count": 82,
   "id": "20104a71-0d16-41fd-ad2f-1e4f5abd0e05",
   "metadata": {},
   "outputs": [],
   "source": [
    "from tensorflow import keras\n",
    "from tensorflow.keras import layers\n",
    "#make DNN\n",
    "def fc():\n",
    "    model = keras.Sequential([\n",
    "    layers.Dense(64, activation='relu', input_shape=[24]),\n",
    "    layers.Dense(128, activation='relu'),\n",
    "    layers.Dense(256, activation='relu'),\n",
    "    layers.Dense(516, activation='sigmoid'),\n",
    "    layers.Dropout(0.5),\n",
    "    layers.Dense(1)\n",
    "  ])\n",
    "    return model\n",
    "dnn=fc()"
   ]
  },
  {
   "cell_type": "code",
   "execution_count": 83,
   "id": "314a9028-5a08-449f-8dbc-6233a8fdb9b6",
   "metadata": {},
   "outputs": [],
   "source": [
    "optimizer = tf.keras.optimizers.Adam(learning_rate=0.0001, beta_1=0.9, beta_2=0.999, epsilon=1e-07)"
   ]
  },
  {
   "cell_type": "code",
   "execution_count": 84,
   "id": "1a60afaf-6881-4589-9c73-1fb0c83b6d88",
   "metadata": {},
   "outputs": [],
   "source": [
    "#Once the model is created, you can config the model with losses and metrics\n",
    "#with model.compile(), \n",
    "#train the model with model.fit(), \n",
    "#or use the model to do prediction with model.predict().\n",
    "dnn.compile(loss='mse', optimizer=optimizer, metrics=['mse'])"
   ]
  },
  {
   "cell_type": "code",
   "execution_count": 85,
   "id": "0a101f4c-69ae-46b5-8554-65a3b74b3748",
   "metadata": {},
   "outputs": [
    {
     "name": "stdout",
     "output_type": "stream",
     "text": [
      "Model: \"sequential_10\"\n",
      "_________________________________________________________________\n",
      "Layer (type)                 Output Shape              Param #   \n",
      "=================================================================\n",
      "dense_50 (Dense)             (None, 64)                1600      \n",
      "_________________________________________________________________\n",
      "dense_51 (Dense)             (None, 128)               8320      \n",
      "_________________________________________________________________\n",
      "dense_52 (Dense)             (None, 256)               33024     \n",
      "_________________________________________________________________\n",
      "dense_53 (Dense)             (None, 516)               132612    \n",
      "_________________________________________________________________\n",
      "dropout_10 (Dropout)         (None, 516)               0         \n",
      "_________________________________________________________________\n",
      "dense_54 (Dense)             (None, 1)                 517       \n",
      "=================================================================\n",
      "Total params: 176,073\n",
      "Trainable params: 176,073\n",
      "Non-trainable params: 0\n",
      "_________________________________________________________________\n"
     ]
    }
   ],
   "source": [
    "dnn.summary()"
   ]
  },
  {
   "cell_type": "code",
   "execution_count": 86,
   "id": "28674a52-116c-4ae6-8a9d-5f3024e22698",
   "metadata": {},
   "outputs": [],
   "source": [
    "#let's do whether model works okay\n",
    "example_batch = x_train[0:2]\n",
    "example_result = dnn.predict(example_batch)"
   ]
  },
  {
   "cell_type": "code",
   "execution_count": 87,
   "id": "2d72e538-ad54-4457-a1b6-f045379df51d",
   "metadata": {},
   "outputs": [],
   "source": [
    "#Let's make callbacks for model saving\n",
    "\n",
    "import os\n",
    "os.mkdir(\"./saved_model/\")"
   ]
  },
  {
   "cell_type": "code",
   "execution_count": 88,
   "id": "4f727d24-8e7d-4902-95b5-63228eef472e",
   "metadata": {},
   "outputs": [
    {
     "name": "stdout",
     "output_type": "stream",
     "text": [
      "WARNING:tensorflow:`period` argument is deprecated. Please use `save_freq` to specify the frequency in number of samples seen.\n",
      "Train on 17331 samples, validate on 1926 samples\n",
      "Epoch 1/20\n",
      "17331/17331 [==============================] - 4s 237us/sample - loss: 0.3429 - mse: 0.3429 - val_loss: 0.0050 - val_mse: 0.0050\n",
      "Epoch 2/20\n",
      "17331/17331 [==============================] - 3s 183us/sample - loss: 0.0208 - mse: 0.0208 - val_loss: 0.0055 - val_mse: 0.0055\n",
      "Epoch 3/20\n",
      "17331/17331 [==============================] - 3s 184us/sample - loss: 0.0085 - mse: 0.0085 - val_loss: 0.0053 - val_mse: 0.0053\n",
      "Epoch 4/20\n",
      "17331/17331 [==============================] - 3s 184us/sample - loss: 0.0073 - mse: 0.0073 - val_loss: 0.0046 - val_mse: 0.0046\n",
      "Epoch 5/20\n",
      "17152/17331 [============================>.] - ETA: 0s - loss: 0.0064 - mse: 0.0064\n",
      "Epoch 00005: saving model to ./saved_model/model-0005.ckpt\n",
      "17331/17331 [==============================] - 3s 190us/sample - loss: 0.0064 - mse: 0.0064 - val_loss: 0.0036 - val_mse: 0.0036\n",
      "Epoch 6/20\n",
      "17331/17331 [==============================] - 3s 188us/sample - loss: 0.0056 - mse: 0.0056 - val_loss: 0.0031 - val_mse: 0.0031\n",
      "Epoch 7/20\n",
      "17331/17331 [==============================] - 3s 196us/sample - loss: 0.0051 - mse: 0.0051 - val_loss: 0.0029 - val_mse: 0.0029\n",
      "Epoch 8/20\n",
      "17331/17331 [==============================] - 3s 191us/sample - loss: 0.0047 - mse: 0.0047 - val_loss: 0.0024 - val_mse: 0.0024\n",
      "Epoch 9/20\n",
      "17331/17331 [==============================] - 3s 185us/sample - loss: 0.0041 - mse: 0.0041 - val_loss: 0.0020 - val_mse: 0.0020\n",
      "Epoch 10/20\n",
      "17280/17331 [============================>.] - ETA: 0s - loss: 0.0033 - mse: 0.0033\n",
      "Epoch 00010: saving model to ./saved_model/model-0010.ckpt\n",
      "17331/17331 [==============================] - 3s 196us/sample - loss: 0.0033 - mse: 0.0033 - val_loss: 0.0015 - val_mse: 0.0015\n",
      "Epoch 11/20\n",
      "17331/17331 [==============================] - 3s 182us/sample - loss: 0.0024 - mse: 0.0024 - val_loss: 0.0011 - val_mse: 0.0011\n",
      "Epoch 12/20\n",
      "17331/17331 [==============================] - 3s 184us/sample - loss: 0.0018 - mse: 0.0018 - val_loss: 0.0011 - val_mse: 0.0011\n",
      "Epoch 13/20\n",
      "17331/17331 [==============================] - 3s 185us/sample - loss: 0.0016 - mse: 0.0016 - val_loss: 8.9907e-04 - val_mse: 8.9907e-04\n",
      "Epoch 14/20\n",
      "17331/17331 [==============================] - 3s 186us/sample - loss: 0.0015 - mse: 0.0015 - val_loss: 8.4276e-04 - val_mse: 8.4276e-04\n",
      "Epoch 15/20\n",
      "17248/17331 [============================>.] - ETA: 0s - loss: 0.0015 - mse: 0.0015\n",
      "Epoch 00015: saving model to ./saved_model/model-0015.ckpt\n",
      "17331/17331 [==============================] - 3s 187us/sample - loss: 0.0015 - mse: 0.0015 - val_loss: 9.1532e-04 - val_mse: 9.1532e-04\n",
      "Epoch 16/20\n",
      "17331/17331 [==============================] - 3s 184us/sample - loss: 0.0014 - mse: 0.0014 - val_loss: 8.5790e-04 - val_mse: 8.5790e-04\n",
      "Epoch 17/20\n",
      "17331/17331 [==============================] - 3s 190us/sample - loss: 0.0013 - mse: 0.0013 - val_loss: 9.0563e-04 - val_mse: 9.0563e-04\n",
      "Epoch 18/20\n",
      "17331/17331 [==============================] - 3s 184us/sample - loss: 0.0013 - mse: 0.0013 - val_loss: 8.2741e-04 - val_mse: 8.2741e-04\n",
      "Epoch 19/20\n",
      "17331/17331 [==============================] - 3s 182us/sample - loss: 0.0013 - mse: 0.0013 - val_loss: 8.3431e-04 - val_mse: 8.3431e-04\n",
      "Epoch 20/20\n",
      "17152/17331 [============================>.] - ETA: 0s - loss: 0.0013 - mse: 0.0013\n",
      "Epoch 00020: saving model to ./saved_model/model-0020.ckpt\n",
      "17331/17331 [==============================] - 3s 185us/sample - loss: 0.0013 - mse: 0.0013 - val_loss: 7.8003e-04 - val_mse: 7.8003e-04\n",
      "INFO:tensorflow:Assets written to: ./saved_model/assets\n"
     ]
    }
   ],
   "source": [
    "save_callbacks = tf.keras.callbacks.ModelCheckpoint(\n",
    "    filepath=\"./saved_model/model-{epoch:04d}.ckpt\", \n",
    "    verbose=1, \n",
    "    save_weights_only=True,\n",
    "    period=5)\n",
    "\n",
    "EPOCHS = 20\n",
    "history = dnn.fit(\n",
    "  x_train, y_train,\n",
    "  epochs=EPOCHS, validation_split = 0.1, verbose=1, callbacks = [save_callbacks])\n",
    "tf.keras.models.save_model(dnn, \"./saved_model/\")"
   ]
  },
  {
   "cell_type": "code",
   "execution_count": 89,
   "id": "1c391e7a-193d-4a25-a359-6a1facdc235e",
   "metadata": {},
   "outputs": [],
   "source": [
    "# Now load checkpoint at epoch 10 and save it as dnn2\n",
    "\n",
    "#define new model dnn2 and compile\n",
    "dnn2 = fc()\n",
    "dnn2.compile(loss='mse', optimizer=optimizer, metrics=['mse'])"
   ]
  },
  {
   "cell_type": "code",
   "execution_count": 90,
   "id": "c67e0301-1a8a-47a5-8e46-864257c9258c",
   "metadata": {},
   "outputs": [
    {
     "data": {
      "text/plain": [
       "<tensorflow.python.training.tracking.util.CheckpointLoadStatus at 0x7f91d0c28d10>"
      ]
     },
     "execution_count": 90,
     "metadata": {},
     "output_type": "execute_result"
    }
   ],
   "source": [
    "# load checkpoint\n",
    "dnn2.load_weights(\"saved_model/model-0010.ckpt\")"
   ]
  },
  {
   "cell_type": "code",
   "execution_count": 91,
   "id": "e170bf71-3d25-4823-854a-46d6615ddae2",
   "metadata": {},
   "outputs": [
    {
     "name": "stdout",
     "output_type": "stream",
     "text": [
      "4815/1 - 0s - loss: 0.0013 - mse: 0.0016\n"
     ]
    }
   ],
   "source": [
    "loss, acc = dnn2.evaluate(x_test, y_test, verbose =2)"
   ]
  },
  {
   "cell_type": "code",
   "execution_count": 92,
   "id": "4b2c58d9-a5f3-4a93-8ced-e4dcbd8dab7b",
   "metadata": {},
   "outputs": [],
   "source": [
    "# load saved model and retrain\n",
    "dnn3 = tf.keras.models.load_model(\"./saved_model/\")"
   ]
  },
  {
   "cell_type": "code",
   "execution_count": 93,
   "id": "c5e9b193-c0d7-4088-9da6-6f7aca66a6c7",
   "metadata": {},
   "outputs": [
    {
     "name": "stdout",
     "output_type": "stream",
     "text": [
      "Train on 17331 samples, validate on 1926 samples\n",
      "Epoch 1/10\n",
      "17331/17331 [==============================] - 4s 243us/sample - loss: 0.0012 - mse: 0.0012 - val_loss: 8.0816e-04 - val_mse: 8.0816e-04\n",
      "Epoch 2/10\n",
      "17331/17331 [==============================] - 3s 187us/sample - loss: 0.0012 - mse: 0.0012 - val_loss: 7.6497e-04 - val_mse: 7.6497e-04\n",
      "Epoch 3/10\n",
      "17331/17331 [==============================] - 3s 190us/sample - loss: 0.0012 - mse: 0.0012 - val_loss: 8.1819e-04 - val_mse: 8.1819e-04\n",
      "Epoch 4/10\n",
      "17331/17331 [==============================] - 3s 185us/sample - loss: 0.0012 - mse: 0.0012 - val_loss: 7.3463e-04 - val_mse: 7.3463e-04\n",
      "Epoch 5/10\n",
      "17331/17331 [==============================] - 3s 192us/sample - loss: 0.0012 - mse: 0.0012 - val_loss: 7.5951e-04 - val_mse: 7.5951e-04\n",
      "Epoch 6/10\n",
      "17331/17331 [==============================] - 3s 187us/sample - loss: 0.0011 - mse: 0.0011 - val_loss: 7.4983e-04 - val_mse: 7.4983e-04\n",
      "Epoch 7/10\n",
      "17331/17331 [==============================] - 3s 187us/sample - loss: 0.0011 - mse: 0.0011 - val_loss: 7.5609e-04 - val_mse: 7.5609e-04\n",
      "Epoch 8/10\n",
      "17331/17331 [==============================] - 3s 185us/sample - loss: 0.0011 - mse: 0.0011 - val_loss: 7.4296e-04 - val_mse: 7.4296e-04\n",
      "Epoch 9/10\n",
      "17331/17331 [==============================] - 3s 186us/sample - loss: 0.0011 - mse: 0.0011 - val_loss: 7.8906e-04 - val_mse: 7.8906e-04\n",
      "Epoch 10/10\n",
      "17331/17331 [==============================] - 3s 188us/sample - loss: 0.0011 - mse: 0.0011 - val_loss: 7.4179e-04 - val_mse: 7.4179e-04\n"
     ]
    }
   ],
   "source": [
    "# train again!\n",
    "history2 = dnn3.fit(\n",
    "  x_train, y_train,\n",
    "  epochs=10, validation_split = 0.1, verbose=1)"
   ]
  },
  {
   "cell_type": "code",
   "execution_count": 96,
   "id": "3a37f175-f0b7-4eac-a4f4-25e5cfc0e5cb",
   "metadata": {},
   "outputs": [
    {
     "data": {
      "text/html": [
       "<div>\n",
       "<style scoped>\n",
       "    .dataframe tbody tr th:only-of-type {\n",
       "        vertical-align: middle;\n",
       "    }\n",
       "\n",
       "    .dataframe tbody tr th {\n",
       "        vertical-align: top;\n",
       "    }\n",
       "\n",
       "    .dataframe thead th {\n",
       "        text-align: right;\n",
       "    }\n",
       "</style>\n",
       "<table border=\"1\" class=\"dataframe\">\n",
       "  <thead>\n",
       "    <tr style=\"text-align: right;\">\n",
       "      <th></th>\n",
       "      <th>loss</th>\n",
       "      <th>mse</th>\n",
       "      <th>val_loss</th>\n",
       "      <th>val_mse</th>\n",
       "      <th>epoch</th>\n",
       "    </tr>\n",
       "  </thead>\n",
       "  <tbody>\n",
       "    <tr>\n",
       "      <th>5</th>\n",
       "      <td>0.001136</td>\n",
       "      <td>0.001136</td>\n",
       "      <td>0.000750</td>\n",
       "      <td>0.000750</td>\n",
       "      <td>5</td>\n",
       "    </tr>\n",
       "    <tr>\n",
       "      <th>6</th>\n",
       "      <td>0.001119</td>\n",
       "      <td>0.001119</td>\n",
       "      <td>0.000756</td>\n",
       "      <td>0.000756</td>\n",
       "      <td>6</td>\n",
       "    </tr>\n",
       "    <tr>\n",
       "      <th>7</th>\n",
       "      <td>0.001105</td>\n",
       "      <td>0.001105</td>\n",
       "      <td>0.000743</td>\n",
       "      <td>0.000743</td>\n",
       "      <td>7</td>\n",
       "    </tr>\n",
       "    <tr>\n",
       "      <th>8</th>\n",
       "      <td>0.001116</td>\n",
       "      <td>0.001116</td>\n",
       "      <td>0.000789</td>\n",
       "      <td>0.000789</td>\n",
       "      <td>8</td>\n",
       "    </tr>\n",
       "    <tr>\n",
       "      <th>9</th>\n",
       "      <td>0.001089</td>\n",
       "      <td>0.001089</td>\n",
       "      <td>0.000742</td>\n",
       "      <td>0.000742</td>\n",
       "      <td>9</td>\n",
       "    </tr>\n",
       "  </tbody>\n",
       "</table>\n",
       "</div>"
      ],
      "text/plain": [
       "       loss       mse  val_loss   val_mse  epoch\n",
       "5  0.001136  0.001136  0.000750  0.000750      5\n",
       "6  0.001119  0.001119  0.000756  0.000756      6\n",
       "7  0.001105  0.001105  0.000743  0.000743      7\n",
       "8  0.001116  0.001116  0.000789  0.000789      8\n",
       "9  0.001089  0.001089  0.000742  0.000742      9"
      ]
     },
     "execution_count": 96,
     "metadata": {},
     "output_type": "execute_result"
    }
   ],
   "source": [
    "import pandas as pd\n",
    "hist = pd.DataFrame(history2.history)\n",
    "hist['epoch'] = history2.epoch\n",
    "hist.tail()"
   ]
  },
  {
   "cell_type": "code",
   "execution_count": 97,
   "id": "4039c488-9343-4448-83c0-5bb2de4370a5",
   "metadata": {},
   "outputs": [
    {
     "data": {
      "image/png": "[encoded data removed]",
      "text/plain": [
       "<Figure size 576x864 with 1 Axes>"
      ]
     },
     "metadata": {
      "needs_background": "light"
     },
     "output_type": "display_data"
    }
   ],
   "source": [
    "import matplotlib.pyplot as plt\n",
    "\n",
    "def plot_history(history):\n",
    "  hist = pd.DataFrame(history.history)\n",
    "  hist['epoch'] = history.epoch\n",
    "\n",
    "  plt.figure(figsize=(8,12))\n",
    "\n",
    "  plt.xlabel('Epoch')\n",
    "  plt.ylabel('Mean Square Error')\n",
    "  plt.plot(hist['epoch'], hist['mse'],\n",
    "           label='Train Error')\n",
    "  plt.plot(hist['epoch'], hist['val_mse'],\n",
    "           label = 'Val Error')\n",
    "  plt.ylim([0,0.002])\n",
    "  plt.legend()\n",
    "  plt.show()\n",
    "\n",
    "plot_history(history2)"
   ]
  },
  {
   "cell_type": "code",
   "execution_count": 98,
   "id": "91d55a4a-e617-4b6f-b881-e302a636b32f",
   "metadata": {},
   "outputs": [
    {
     "name": "stdout",
     "output_type": "stream",
     "text": [
      "(4815, 1) (4815,)\n"
     ]
    }
   ],
   "source": [
    "test_predictions = dnn3.predict(x_test).flatten()\n",
    "print(np.shape(y_test), np.shape(test_predictions))"
   ]
  },
  {
   "cell_type": "code",
   "execution_count": 99,
   "id": "bd7b6152-7b76-42ad-960e-af053892a326",
   "metadata": {},
   "outputs": [
    {
     "name": "stdout",
     "output_type": "stream",
     "text": [
      "4815/1 - 0s - loss: 5.1716e-04 - mse: 7.9799e-04\n",
      "MSE of testset:  1.12 ug/m^3\n"
     ]
    }
   ],
   "source": [
    "#Evaluate with test set\n",
    "loss,  mse = dnn3.evaluate(x_test, y_test, verbose=2)\n",
    "pm25_max = 149.0\n",
    "pm25_min = 1.0\n",
    "mse = mse*(pm25_max-pm25_min) + pm25_min\n",
    "print(\"MSE of testset: {:5.2f} ug/m^3\".format(mse))"
   ]
  },
  {
   "cell_type": "code",
   "execution_count": 100,
   "id": "261f8b86-e4c5-428a-8e3b-e1fb7a784e38",
   "metadata": {},
   "outputs": [],
   "source": [
    "#de-normalization\n",
    "for i in range(len(y_test)):\n",
    "    y_test[i,0] = y_test[i,0]*(pm25_max-pm25_min)+pm25_min\n",
    "    test_predictions[i] = test_predictions[i]*(pm25_max-pm25_min)+pm25_min"
   ]
  },
  {
   "cell_type": "code",
   "execution_count": 101,
   "id": "804f5e8b-c91e-4c81-93dd-7871cf742255",
   "metadata": {},
   "outputs": [
    {
     "data": {
      "image/png": "[encoded data removed]",
      "text/plain": [
       "<Figure size 432x288 with 1 Axes>"
      ]
     },
     "metadata": {
      "needs_background": "light"
     },
     "output_type": "display_data"
    }
   ],
   "source": [
    "# plot results\n",
    "plt.scatter(y_test, test_predictions)\n",
    "plt.xlabel('True Values')\n",
    "plt.ylabel('Predictions')\n",
    "plt.ylim([0,150])\n",
    "plt.xlim([0,150])\n",
    "plt.show()"
   ]
  },
  {
   "cell_type": "code",
   "execution_count": null,
   "id": "a1fbcae3-e7b7-469f-b115-5b9b71b0b9c9",
   "metadata": {},
   "outputs": [],
   "source": []
  }
 ],
 "metadata": {
  "kernelspec": {
   "display_name": "Python 3 (ipykernel)",
   "language": "python",
   "name": "python3"
  },
  "language_info": {
   "codemirror_mode": {
    "name": "ipython",
    "version": 3
   },
   "file_extension": ".py",
   "mimetype": "text/x-python",
   "name": "python",
   "nbconvert_exporter": "python",
   "pygments_lexer": "ipython3",
   "version": "3.7.11"
  }
 },
 "nbformat": 4,
 "nbformat_minor": 5
}
