{
 "cells": [
  {
   "cell_type": "code",
   "execution_count": 3,
   "id": "bc46add5-766c-4cff-9889-26e369b42fa7",
   "metadata": {},
   "outputs": [],
   "source": [
    "#Data Preprocessing\n",
    "#Data downloaded from \n",
    "#https://www.airkorea.or.kr/web/last_amb_hour_data?pMENU_NO=123"
   ]
  },
  {
   "cell_type": "code",
   "execution_count": 4,
   "id": "2ca81abe-e24f-417f-9673-e174418d42bb",
   "metadata": {},
   "outputs": [],
   "source": [
    "f = open(\"./2018_2019_2020.csv\", 'r')\n",
    "f = f.read()\n",
    "f = f.split(\"\\n\")"
   ]
  },
  {
   "cell_type": "code",
   "execution_count": 5,
   "id": "bd7ec9f7-5876-4037-97d5-9ab7eed078b8",
   "metadata": {},
   "outputs": [
    {
     "name": "stdout",
     "output_type": "stream",
     "text": [
      "11947304\n"
     ]
    }
   ],
   "source": [
    "print(len(f))"
   ]
  },
  {
   "cell_type": "code",
   "execution_count": 6,
   "id": "bdf7819c-9bd1-4090-aab0-0e41d917357a",
   "metadata": {},
   "outputs": [
    {
     "name": "stdout",
     "output_type": "stream",
     "text": [
      "﻿지역,측정소코드,측정소명,측정일시,SO2,CO,O3,NO2,PM10,PM25,주소 \n",
      " 서울 중구,111121,중구,2018010101,0.004,0.5,0.02,0.02,34,19,서울 중구 덕수궁길 15\n"
     ]
    }
   ],
   "source": [
    "print(f[0],\"\\n\",f[1])"
   ]
  },
  {
   "cell_type": "code",
   "execution_count": 7,
   "id": "3df3bed4-5b67-4575-a98a-4341b4afe8ef",
   "metadata": {},
   "outputs": [
    {
     "name": "stdout",
     "output_type": "stream",
     "text": [
      "['서울 중구', '111121', '중구', '2018010101', '0.004', '0.5', '0.02', '0.02', '34', '19', '서울 중구 덕수궁길 15']\n"
     ]
    }
   ],
   "source": [
    "print(f[1].split(\",\"))"
   ]
  },
  {
   "cell_type": "code",
   "execution_count": 8,
   "id": "34461bcc-4b60-4e2b-9546-ba87ccff761c",
   "metadata": {},
   "outputs": [],
   "source": [
    "# let's collect pm2.5 (초미세먼지(㎍/㎥)) at 중구\n",
    "junggu  = []\n",
    "count = 0\n",
    "for i in range(1, len(f)):\n",
    "    line = f[i]\n",
    "    try:\n",
    "        if line.split(\",\")[-1] == '서울 중구 덕수궁길 15':\n",
    "            try:\n",
    "                pollutant = line.split(\",\")[-7:-1]\n",
    "                val = [ float(val) for val in pollutant ]\n",
    "                junggu.append(val)\n",
    "            except:\n",
    "                # when there is no data copy from previous data point\n",
    "                junggu.append(junggu[-1])\n",
    "                count = count + 1\n",
    "                pass\n",
    "    except:\n",
    "        pass"
   ]
  },
  {
   "cell_type": "code",
   "execution_count": 28,
   "id": "7a26e9a4-a75d-4bbf-8b83-0f4a763a1633",
   "metadata": {},
   "outputs": [
    {
     "name": "stdout",
     "output_type": "stream",
     "text": [
      "1817 24096\n"
     ]
    }
   ],
   "source": [
    "print(count, len(junggu))"
   ]
  },
  {
   "cell_type": "code",
   "execution_count": 29,
   "id": "16c37863-9162-4dc6-a5d4-35f9c7df8203",
   "metadata": {},
   "outputs": [
    {
     "name": "stdout",
     "output_type": "stream",
     "text": [
      "[0.004, 0.5, 0.02, 0.02, 34.0, 19.0]\n"
     ]
    }
   ],
   "source": [
    "# We will predict concentration of pm2.5 based on pm2.5 of previous 24 hours of historical data.\n",
    "print(junggu[0])"
   ]
  },
  {
   "cell_type": "code",
   "execution_count": 37,
   "id": "808d2f4b-2e3e-4093-9597-4db74af05705",
   "metadata": {},
   "outputs": [
    {
     "name": "stdout",
     "output_type": "stream",
     "text": [
      "(24096, 6)\n"
     ]
    }
   ],
   "source": [
    "#normalization by channels\n",
    "import numpy as np\n",
    "junggu = np.asarray(junggu)\n",
    "print(np.shape(junggu))"
   ]
  },
  {
   "cell_type": "code",
   "execution_count": 38,
   "id": "76bc1965-203e-4f35-90e7-51ae73b91e53",
   "metadata": {},
   "outputs": [
    {
     "name": "stdout",
     "output_type": "stream",
     "text": [
      "[0.001, 0.2, 0.001, 0.004, 3.0, 1.0] [0.018, 2.1, 0.178, 0.1, 296.0, 149.0]\n"
     ]
    }
   ],
   "source": [
    "min_list = [ min(junggu[:,i]) for i in range(len(junggu[0,:]))]\n",
    "max_list = [ max(junggu[:,i]) for i in range(len(junggu[0,:]))]\n",
    "print(min_list, max_list)"
   ]
  },
  {
   "cell_type": "code",
   "execution_count": 39,
   "id": "b0c54892-cb9c-4d5e-9cf2-6fc7ae4702e4",
   "metadata": {},
   "outputs": [],
   "source": [
    "for i in range(len(junggu)):\n",
    "    for j in range(len(junggu[0,:])):\n",
    "        junggu[i,j] = (junggu[i,j] - min_list[j])/ (max_list[j] - min_list[j])"
   ]
  },
  {
   "cell_type": "code",
   "execution_count": 41,
   "id": "a5685006-f4b5-4847-9877-135282253e49",
   "metadata": {},
   "outputs": [
    {
     "name": "stdout",
     "output_type": "stream",
     "text": [
      "[[0.17647059 0.15789474 0.10734463 0.16666667 0.10580205 0.12162162]\n",
      " [0.17647059 0.10526316 0.1299435  0.125      0.08191126 0.08783784]\n",
      " [0.17647059 0.10526316 0.0960452  0.1875     0.07849829 0.08783784]]\n"
     ]
    }
   ],
   "source": [
    "print(junggu[0:3])"
   ]
  },
  {
   "cell_type": "code",
   "execution_count": 42,
   "id": "7ba2759c-f5a1-484b-9881-87fd954d8b44",
   "metadata": {},
   "outputs": [],
   "source": [
    "#let's create input(x) and output(y)"
   ]
  },
  {
   "cell_type": "code",
   "execution_count": 43,
   "id": "fe5ccc25-bebf-4ad0-9662-c024b88abf2b",
   "metadata": {},
   "outputs": [],
   "source": [
    "x =[]; y =[]\n",
    "for i in range(24, len(junggu)):\n",
    "    x.append(junggu[i-24: i])\n",
    "    y.append([junggu[i][-1]])"
   ]
  },
  {
   "cell_type": "code",
   "execution_count": 44,
   "id": "5a4afdad-6097-4d0a-b9c7-2fedae7b059d",
   "metadata": {},
   "outputs": [
    {
     "data": {
      "text/plain": [
       "(24072, 24072)"
      ]
     },
     "execution_count": 44,
     "metadata": {},
     "output_type": "execute_result"
    }
   ],
   "source": [
    "len(x), len(y)"
   ]
  },
  {
   "cell_type": "code",
   "execution_count": 45,
   "id": "01024465-80f8-46f9-8267-036c910686c7",
   "metadata": {},
   "outputs": [],
   "source": [
    "#shuffle data\n",
    "idx = [i for i in range(len(x))] "
   ]
  },
  {
   "cell_type": "code",
   "execution_count": 46,
   "id": "4dce1a0e-0626-4c76-8051-2f7c1473c400",
   "metadata": {},
   "outputs": [],
   "source": [
    "import random"
   ]
  },
  {
   "cell_type": "code",
   "execution_count": 47,
   "id": "1b3b2922-cb6e-47c9-8815-6cac18d9f6a0",
   "metadata": {},
   "outputs": [],
   "source": [
    "random.shuffle(idx)"
   ]
  },
  {
   "cell_type": "code",
   "execution_count": 48,
   "id": "b9414f22-3c79-4c73-b425-4022dd63165c",
   "metadata": {},
   "outputs": [],
   "source": [
    "x_shuffle=[]\n",
    "y_shuffle=[]\n",
    "for i in idx:\n",
    "    x_shuffle.append(x[i])\n",
    "    y_shuffle.append(y[i])\n",
    "x,y = x_shuffle, y_shuffle"
   ]
  },
  {
   "cell_type": "code",
   "execution_count": 49,
   "id": "0637c7c3-4278-4cb2-809f-8b9d699ed035",
   "metadata": {},
   "outputs": [],
   "source": [
    "#change input and output as numpy array\n",
    "import numpy as np\n",
    "x = np.asarray(x) \n",
    "y = np.asarray(y)"
   ]
  },
  {
   "cell_type": "code",
   "execution_count": 50,
   "id": "e7dc3810-6b71-4c89-9f92-2e11b5397b1b",
   "metadata": {},
   "outputs": [
    {
     "name": "stdout",
     "output_type": "stream",
     "text": [
      "(24072, 24, 6) (24072, 1)\n"
     ]
    }
   ],
   "source": [
    "print(np.shape(x), np.shape(y))"
   ]
  },
  {
   "cell_type": "code",
   "execution_count": 51,
   "id": "92a0561c-19f6-423d-9093-e61187138cf1",
   "metadata": {},
   "outputs": [],
   "source": [
    "# training set: 80% test set: 20%\n",
    "x_train, y_train = x[0:int(len(x)*0.8)], y[0:int(len(x)*0.8)]\n",
    "x_test, y_test = x[int(len(x)*0.8):len(x)], y[int(len(x)*0.8): len(x)]"
   ]
  },
  {
   "cell_type": "code",
   "execution_count": 52,
   "id": "41fd0abd-d45d-468f-8f98-9d969ad00dc3",
   "metadata": {},
   "outputs": [
    {
     "name": "stdout",
     "output_type": "stream",
     "text": [
      "(19257, 24, 6) (19257, 1) (4815, 24, 6) (4815, 1)\n"
     ]
    }
   ],
   "source": [
    "print(np.shape(x_train), np.shape(y_train), np.shape(x_test), np.shape(y_test))"
   ]
  },
  {
   "cell_type": "code",
   "execution_count": 53,
   "id": "1491f8dd-7879-49ec-89df-ac29945d08e7",
   "metadata": {},
   "outputs": [],
   "source": [
    "# Save it as npy files\n",
    "np.save(\"train_x_rnn.npy\", x_train)\n",
    "np.save(\"train_y_rnn.npy\", y_train)\n",
    "np.save(\"test_x_rnn.npy\", x_test)\n",
    "np.save(\"test_y_rnn.npy\", y_test)"
   ]
  },
  {
   "cell_type": "code",
   "execution_count": null,
   "id": "1e42ea56-dcf7-411b-a733-7f65196d8874",
   "metadata": {},
   "outputs": [],
   "source": []
  }
 ],
 "metadata": {
  "kernelspec": {
   "display_name": "Python 3 (ipykernel)",
   "language": "python",
   "name": "python3"
  },
  "language_info": {
   "codemirror_mode": {
    "name": "ipython",
    "version": 3
   },
   "file_extension": ".py",
   "mimetype": "text/x-python",
   "name": "python",
   "nbconvert_exporter": "python",
   "pygments_lexer": "ipython3",
   "version": "3.7.11"
  }
 },
 "nbformat": 4,
 "nbformat_minor": 5
}
