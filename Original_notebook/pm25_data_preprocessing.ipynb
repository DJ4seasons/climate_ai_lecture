{
 "cells": [
  {
   "cell_type": "code",
   "execution_count": 2,
   "id": "bc46add5-766c-4cff-9889-26e369b42fa7",
   "metadata": {},
   "outputs": [],
   "source": [
    "#Data Preprocessing\n",
    "#Data downloaded from \n",
    "#https://www.airkorea.or.kr/web/last_amb_hour_data?pMENU_NO=123"
   ]
  },
  {
   "cell_type": "code",
   "execution_count": 3,
   "id": "2ca81abe-e24f-417f-9673-e174418d42bb",
   "metadata": {},
   "outputs": [],
   "source": [
    "f = open(\"./2018_2019_2020.csv\", 'r')\n",
    "f = f.read()\n",
    "f = f.split(\"\\n\")"
   ]
  },
  {
   "cell_type": "code",
   "execution_count": 4,
   "id": "bd7ec9f7-5876-4037-97d5-9ab7eed078b8",
   "metadata": {},
   "outputs": [
    {
     "name": "stdout",
     "output_type": "stream",
     "text": [
      "11947304\n"
     ]
    }
   ],
   "source": [
    "print(len(f))"
   ]
  },
  {
   "cell_type": "code",
   "execution_count": 5,
   "id": "bdf7819c-9bd1-4090-aab0-0e41d917357a",
   "metadata": {},
   "outputs": [
    {
     "name": "stdout",
     "output_type": "stream",
     "text": [
      "﻿지역,측정소코드,측정소명,측정일시,SO2,CO,O3,NO2,PM10,PM25,주소 \n",
      " 서울 중구,111121,중구,2018010101,0.004,0.5,0.02,0.02,34,19,서울 중구 덕수궁길 15\n"
     ]
    }
   ],
   "source": [
    "print(f[0],\"\\n\",f[1])"
   ]
  },
  {
   "cell_type": "code",
   "execution_count": 6,
   "id": "3df3bed4-5b67-4575-a98a-4341b4afe8ef",
   "metadata": {},
   "outputs": [
    {
     "name": "stdout",
     "output_type": "stream",
     "text": [
      "['서울 중구', '111121', '중구', '2018010101', '0.004', '0.5', '0.02', '0.02', '34', '19', '서울 중구 덕수궁길 15']\n"
     ]
    }
   ],
   "source": [
    "print(f[1].split(\",\"))"
   ]
  },
  {
   "cell_type": "code",
   "execution_count": 7,
   "id": "34461bcc-4b60-4e2b-9546-ba87ccff761c",
   "metadata": {},
   "outputs": [],
   "source": [
    "# let's collect pm2.5 (초미세먼지(㎍/㎥)) at 중구\n",
    "junggu  = []\n",
    "count = 0\n",
    "for i in range(1, len(f)):\n",
    "    line = f[i]\n",
    "    try:\n",
    "        if line.split(\",\")[-1] == '서울 중구 덕수궁길 15':\n",
    "            try:\n",
    "                pm_val = float(line.split(\",\")[-2])\n",
    "                junggu.append(pm_val)\n",
    "            except:\n",
    "                # when there is no data copy from previous data point\n",
    "                junggu.append(junggu[-1])\n",
    "                count = count + 1\n",
    "                pass\n",
    "    except:\n",
    "        pass"
   ]
  },
  {
   "cell_type": "code",
   "execution_count": 8,
   "id": "7a26e9a4-a75d-4bbf-8b83-0f4a763a1633",
   "metadata": {},
   "outputs": [
    {
     "name": "stdout",
     "output_type": "stream",
     "text": [
      "248 24096\n"
     ]
    }
   ],
   "source": [
    "print(count, len(junggu))"
   ]
  },
  {
   "cell_type": "code",
   "execution_count": 9,
   "id": "2fe6f339-9e80-473c-9a15-7e336489ff14",
   "metadata": {},
   "outputs": [
    {
     "name": "stdout",
     "output_type": "stream",
     "text": [
      "[19.0, 14.0]\n"
     ]
    }
   ],
   "source": [
    "print(junggu[0:2])"
   ]
  },
  {
   "cell_type": "code",
   "execution_count": 10,
   "id": "97ea0e16-3c33-44ef-91a1-2f5ad73d2aad",
   "metadata": {},
   "outputs": [],
   "source": [
    "#normalization\n",
    "pm25_min = min(junggu)\n",
    "pm25_max = max(junggu)\n",
    "for i in range(len(junggu)):\n",
    "    junggu[i]=(junggu[i]-pm25_min)/(pm25_max - pm25_min)"
   ]
  },
  {
   "cell_type": "code",
   "execution_count": 12,
   "id": "3773206f-5d48-4c8d-8ed9-19abb58af810",
   "metadata": {},
   "outputs": [
    {
     "name": "stdout",
     "output_type": "stream",
     "text": [
      "1.0 149.0 [0.12162162162162163, 0.08783783783783784]\n"
     ]
    }
   ],
   "source": [
    "print(pm25_min, pm25_max, junggu[0:2])"
   ]
  },
  {
   "cell_type": "code",
   "execution_count": 13,
   "id": "4b92ff76-8555-42c9-a81f-115419682be2",
   "metadata": {},
   "outputs": [
    {
     "data": {
      "image/png": "[encoded data removed]",
      "text/plain": [
       "<Figure size 432x288 with 1 Axes>"
      ]
     },
     "metadata": {
      "needs_background": "light"
     },
     "output_type": "display_data"
    }
   ],
   "source": [
    "#let's lookat the distribution of pm2.5 of junggu!\n",
    "import matplotlib.pyplot as plt\n",
    "#the histogram of the data\n",
    "n, bins, patches = plt.hist(junggu, 50,facecolor='g', alpha=0.75)\n",
    "plt.xlabel('PM2.5 of junggu')\n",
    "plt.ylabel('Probability')\n",
    "plt.title('Distribuion of PM2.5 of junggu')\n",
    "plt.grid(True)\n",
    "plt.show()"
   ]
  },
  {
   "cell_type": "code",
   "execution_count": 14,
   "id": "16c37863-9162-4dc6-a5d4-35f9c7df8203",
   "metadata": {},
   "outputs": [
    {
     "name": "stdout",
     "output_type": "stream",
     "text": [
      "[0.12162162162162163, 0.08783783783783784, 0.08783783783783784, 0.0945945945945946, 0.10135135135135136, 0.10810810810810811, 0.10135135135135136, 0.08783783783783784, 0.08783783783783784, 0.07432432432432433, 0.10135135135135136, 0.10810810810810811, 0.08108108108108109, 0.10810810810810811, 0.14864864864864866, 0.13513513513513514, 0.13513513513513514, 0.12162162162162163, 0.14189189189189189, 0.13513513513513514, 0.13513513513513514, 0.12837837837837837, 0.14864864864864866, 0.14189189189189189] 0.1554054054054054\n"
     ]
    }
   ],
   "source": [
    "# We will predict concentration of pm2.5 based on pm2.5 of previous 24 hours of historical data.\n",
    "print(junggu[0:24], junggu[24])"
   ]
  },
  {
   "cell_type": "code",
   "execution_count": 15,
   "id": "7ba2759c-f5a1-484b-9881-87fd954d8b44",
   "metadata": {},
   "outputs": [],
   "source": [
    "#let's create input(x) and output(y)"
   ]
  },
  {
   "cell_type": "code",
   "execution_count": 16,
   "id": "fe5ccc25-bebf-4ad0-9662-c024b88abf2b",
   "metadata": {},
   "outputs": [],
   "source": [
    "x =[]; y =[]\n",
    "for i in range(24, len(junggu)):\n",
    "    x.append(junggu[i-24: i])\n",
    "    y.append([junggu[i]])"
   ]
  },
  {
   "cell_type": "code",
   "execution_count": 17,
   "id": "5a4afdad-6097-4d0a-b9c7-2fedae7b059d",
   "metadata": {},
   "outputs": [
    {
     "data": {
      "text/plain": [
       "(24072, 24072)"
      ]
     },
     "execution_count": 17,
     "metadata": {},
     "output_type": "execute_result"
    }
   ],
   "source": [
    "len(x), len(y)"
   ]
  },
  {
   "cell_type": "code",
   "execution_count": 18,
   "id": "01024465-80f8-46f9-8267-036c910686c7",
   "metadata": {},
   "outputs": [],
   "source": [
    "#shuffle data\n",
    "idx = [i for i in range(len(x))] "
   ]
  },
  {
   "cell_type": "code",
   "execution_count": 19,
   "id": "4dce1a0e-0626-4c76-8051-2f7c1473c400",
   "metadata": {},
   "outputs": [],
   "source": [
    "import random"
   ]
  },
  {
   "cell_type": "code",
   "execution_count": 20,
   "id": "1b3b2922-cb6e-47c9-8815-6cac18d9f6a0",
   "metadata": {},
   "outputs": [],
   "source": [
    "random.shuffle(idx)"
   ]
  },
  {
   "cell_type": "code",
   "execution_count": 21,
   "id": "b9414f22-3c79-4c73-b425-4022dd63165c",
   "metadata": {},
   "outputs": [],
   "source": [
    "x_shuffle=[]\n",
    "y_shuffle=[]\n",
    "for i in idx:\n",
    "    x_shuffle.append(x[i])\n",
    "    y_shuffle.append(y[i])\n",
    "x,y = x_shuffle, y_shuffle"
   ]
  },
  {
   "cell_type": "code",
   "execution_count": 22,
   "id": "0637c7c3-4278-4cb2-809f-8b9d699ed035",
   "metadata": {},
   "outputs": [],
   "source": [
    "#change input and output as numpy array\n",
    "import numpy as np\n",
    "x = np.asarray(x) \n",
    "y = np.asarray(y)"
   ]
  },
  {
   "cell_type": "code",
   "execution_count": 23,
   "id": "e7dc3810-6b71-4c89-9f92-2e11b5397b1b",
   "metadata": {},
   "outputs": [
    {
     "name": "stdout",
     "output_type": "stream",
     "text": [
      "(24072, 24) (24072, 1)\n"
     ]
    }
   ],
   "source": [
    "print(np.shape(x), np.shape(y))"
   ]
  },
  {
   "cell_type": "code",
   "execution_count": 24,
   "id": "92a0561c-19f6-423d-9093-e61187138cf1",
   "metadata": {},
   "outputs": [],
   "source": [
    "# training set: 80% test set: 20%\n",
    "x_train, y_train = x[0:int(len(x)*0.8)], y[0:int(len(x)*0.8)]\n",
    "x_test, y_test = x[int(len(x)*0.8):len(x)], y[int(len(x)*0.8): len(x)]"
   ]
  },
  {
   "cell_type": "code",
   "execution_count": 25,
   "id": "41fd0abd-d45d-468f-8f98-9d969ad00dc3",
   "metadata": {},
   "outputs": [
    {
     "name": "stdout",
     "output_type": "stream",
     "text": [
      "(19257, 24) (19257, 1) (4815, 24) (4815, 1)\n"
     ]
    }
   ],
   "source": [
    "print(np.shape(x_train), np.shape(y_train), np.shape(x_test), np.shape(y_test))"
   ]
  },
  {
   "cell_type": "code",
   "execution_count": 26,
   "id": "800630ec-a96a-4291-bc52-246c64c127b4",
   "metadata": {},
   "outputs": [
    {
     "data": {
      "text/plain": [
       "(array([111., 269., 380., 471., 548., 508., 468., 419., 275., 254., 193.,\n",
       "        152., 116.,  96.,  79.,  78.,  60.,  57.,  42.,  32.,  33.,  21.,\n",
       "         24.,  18.,   9.,  19.,  16.,   5.,   8.,  10.,   6.,   3.,   8.,\n",
       "          3.,   7.,   2.,   0.,   3.,   0.,   3.,   1.,   3.,   0.,   0.,\n",
       "          3.,   1.,   0.,   0.,   0.,   1.]),\n",
       " array([0.  , 0.02, 0.04, 0.06, 0.08, 0.1 , 0.12, 0.14, 0.16, 0.18, 0.2 ,\n",
       "        0.22, 0.24, 0.26, 0.28, 0.3 , 0.32, 0.34, 0.36, 0.38, 0.4 , 0.42,\n",
       "        0.44, 0.46, 0.48, 0.5 , 0.52, 0.54, 0.56, 0.58, 0.6 , 0.62, 0.64,\n",
       "        0.66, 0.68, 0.7 , 0.72, 0.74, 0.76, 0.78, 0.8 , 0.82, 0.84, 0.86,\n",
       "        0.88, 0.9 , 0.92, 0.94, 0.96, 0.98, 1.  ]),\n",
       " <BarContainer object of 50 artists>)"
      ]
     },
     "execution_count": 26,
     "metadata": {},
     "output_type": "execute_result"
    },
    {
     "data": {
      "image/png": "[encoded data removed]",
      "text/plain": [
       "<Figure size 432x288 with 2 Axes>"
      ]
     },
     "metadata": {
      "needs_background": "light"
     },
     "output_type": "display_data"
    }
   ],
   "source": [
    "#Let's look at the distribution of y_train and y_test\n",
    "train = np.reshape(y_train, [len(y_train)])\n",
    "test = np.reshape(y_test, [len(y_test)])\n",
    "n_bins = 50\n",
    "fig, axs = plt.subplots(1, 2, sharey=True, tight_layout=True)\n",
    "# We can set the number of bins with the `bins` kwarg\n",
    "axs[0].hist(train, bins=n_bins)\n",
    "axs[1].hist(test, bins=n_bins)"
   ]
  },
  {
   "cell_type": "code",
   "execution_count": 27,
   "id": "1491f8dd-7879-49ec-89df-ac29945d08e7",
   "metadata": {},
   "outputs": [],
   "source": [
    "# Save it as npy files\n",
    "np.save(\"train_x.npy\", x_train)\n",
    "np.save(\"train_y.npy\", y_train)\n",
    "np.save(\"test_x.npy\", x_test)\n",
    "np.save(\"test_y.npy\", y_test)"
   ]
  },
  {
   "cell_type": "code",
   "execution_count": null,
   "id": "1e42ea56-dcf7-411b-a733-7f65196d8874",
   "metadata": {},
   "outputs": [],
   "source": []
  },
  {
   "cell_type": "code",
   "execution_count": null,
   "id": "012ff6af-d2c3-4fc6-996d-a07748716b2a",
   "metadata": {},
   "outputs": [],
   "source": []
  }
 ],
 "metadata": {
  "kernelspec": {
   "display_name": "Python 3 (ipykernel)",
   "language": "python",
   "name": "python3"
  },
  "language_info": {
   "codemirror_mode": {
    "name": "ipython",
    "version": 3
   },
   "file_extension": ".py",
   "mimetype": "text/x-python",
   "name": "python",
   "nbconvert_exporter": "python",
   "pygments_lexer": "ipython3",
   "version": "3.7.11"
  }
 },
 "nbformat": 4,
 "nbformat_minor": 5
}
