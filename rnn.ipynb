{
 "cells": [
  {
   "cell_type": "code",
   "execution_count": 1,
   "id": "74f6d5f8-5169-4915-8375-bb6ed8ec80c5",
   "metadata": {},
   "outputs": [],
   "source": [
    "from tensorflow.keras.models import Sequential\n",
    "import tensorflow as tf\n",
    "from tensorflow.keras import layers\n",
    "import numpy as np\n",
    "import matplotlib.pyplot as plt\n",
    "import pandas as pd"
   ]
  },
  {
   "cell_type": "code",
   "execution_count": 2,
   "id": "9de54c37-de94-4177-8fe0-07eeea41f1fc",
   "metadata": {},
   "outputs": [
    {
     "name": "stdout",
     "output_type": "stream",
     "text": [
      "(19257, 24, 6) (19257, 1) (4815, 24, 6) (4815, 1)\n"
     ]
    }
   ],
   "source": [
    "#load PM2.5 data from 2018~2020\n",
    "#The shape of input of RNN is (batch_size, timesteps, units).\n",
    "x_train, y_train = np.load(\"train_x_rnn.npy\"), np.load(\"train_y_rnn.npy\")\n",
    "x_test, y_test = np.load(\"test_x_rnn.npy\"), np.load(\"test_y_rnn.npy\")\n",
    "x_train, y_train = x_train.astype('float32'), y_train.astype('float32')\n",
    "x_test, y_test = x_test.astype('float32'), y_test.astype('float32')\n",
    "\n",
    "print(np.shape(x_train), np.shape(y_train), np.shape(x_test), np.shape(y_test))"
   ]
  },
  {
   "cell_type": "code",
   "execution_count": 3,
   "id": "623d4a84-a3ae-4d99-8b28-566a935f6ac2",
   "metadata": {},
   "outputs": [
    {
     "name": "stderr",
     "output_type": "stream",
     "text": [
      "2021-09-20 11:51:13.228415: I tensorflow/core/platform/cpu_feature_guard.cc:145] This TensorFlow binary is optimized with Intel(R) MKL-DNN to use the following CPU instructions in performance critical operations:  SSE4.1 SSE4.2 AVX AVX2 FMA\n",
      "To enable them in non-MKL-DNN operations, rebuild TensorFlow with the appropriate compiler flags.\n",
      "2021-09-20 11:51:13.228837: I tensorflow/core/common_runtime/process_util.cc:115] Creating new thread pool with default inter op setting: 16. Tune using inter_op_parallelism_threads for best performance.\n"
     ]
    }
   ],
   "source": [
    "##make RNN\n",
    "#keras.layers.SimpleRNNCell corresponds to the SimpleRNN layer.\n",
    "#keras.layers.GRUCell corresponds to the GRU layer.\n",
    "#keras.layers.LSTMCell corresponds to the LSTM layer.\n",
    "# if return_sequences=False --> output.shape == (batch_size, units)\n",
    "# if return_sequences=True --> output.shape == (batch_size, timesteps, units)\n",
    "\n",
    "rnn = Sequential([\n",
    "    # Shape [batch, time, features] => [batch, time, lstm_units]\n",
    "    layers.LSTM(16, input_shape=(24, 6), return_sequences=True),\n",
    "    layers.LSTM(16, return_sequences=True),\n",
    "    layers.LSTM(16, return_sequences=True),\n",
    "    # Shape [batch, time, features] => [batch, lstm_units]\n",
    "    layers.LSTM(16, return_sequences=False),\n",
    "    layers.Dense(1)\n",
    "  ])\n",
    "\n",
    "#Note : NotImplementedError: Cannot convert a symbolic Tensor의 해결 방법\n",
    "#이는 numpy 버전이 너무 높아서 tensorflow에서 아직 구현을 못한 것이다.  numpy 버전을 낮추면 된다\n",
    "#pip uninstall numpy\n",
    "#conda install numpy=1.19.5 -c conda-forge"
   ]
  },
  {
   "cell_type": "code",
   "execution_count": 4,
   "id": "9eba187f-1af3-40c0-abfe-a9f3f2bdc17d",
   "metadata": {},
   "outputs": [],
   "source": [
    "optimizer = tf.keras.optimizers.Adam(learning_rate=0.001, beta_1=0.9, beta_2=0.999, epsilon=1e-07)"
   ]
  },
  {
   "cell_type": "code",
   "execution_count": 5,
   "id": "c563ef9f-a974-4bc7-b2f2-e590a345be61",
   "metadata": {},
   "outputs": [],
   "source": [
    "#Once the model is created, you can config the model with losses and metrics\n",
    "#with model.compile(), \n",
    "#train the model with model.fit(), \n",
    "#or use the model to do prediction with model.predict().\n",
    "rnn.compile(loss='mse', optimizer=optimizer, metrics=['mse'])"
   ]
  },
  {
   "cell_type": "code",
   "execution_count": 6,
   "id": "de2020d2-4432-4997-9aaa-d0995d9f47f4",
   "metadata": {},
   "outputs": [
    {
     "name": "stdout",
     "output_type": "stream",
     "text": [
      "Model: \"sequential\"\n",
      "_________________________________________________________________\n",
      "Layer (type)                 Output Shape              Param #   \n",
      "=================================================================\n",
      "lstm (LSTM)                  (None, 24, 16)            1472      \n",
      "_________________________________________________________________\n",
      "lstm_1 (LSTM)                (None, 24, 16)            2112      \n",
      "_________________________________________________________________\n",
      "lstm_2 (LSTM)                (None, 24, 16)            2112      \n",
      "_________________________________________________________________\n",
      "lstm_3 (LSTM)                (None, 16)                2112      \n",
      "_________________________________________________________________\n",
      "dense (Dense)                (None, 1)                 17        \n",
      "=================================================================\n",
      "Total params: 7,825\n",
      "Trainable params: 7,825\n",
      "Non-trainable params: 0\n",
      "_________________________________________________________________\n"
     ]
    }
   ],
   "source": [
    "rnn.summary()"
   ]
  },
  {
   "cell_type": "code",
   "execution_count": 7,
   "id": "c4996bb8-2221-45eb-9932-5476895e9b85",
   "metadata": {},
   "outputs": [
    {
     "name": "stderr",
     "output_type": "stream",
     "text": [
      "2021-09-20 11:51:18.162799: W tensorflow/core/grappler/optimizers/implementation_selector.cc:310] Skipping optimization due to error while loading function libraries: Invalid argument: Functions '__inference_cudnn_lstm_with_fallback_2991' and '__inference_standard_lstm_2880_specialized_for_sequential_lstm_1_StatefulPartitionedCall_at___inference_distributed_function_4120' both implement 'lstm_bf4863f6-9beb-4574-b891-6646b3eb991c' but their signatures do not match.\n"
     ]
    }
   ],
   "source": [
    "#let's do whether model works okay\n",
    "example_batch = x_train[0:2]\n",
    "example_result = rnn.predict(example_batch)"
   ]
  },
  {
   "cell_type": "code",
   "execution_count": 8,
   "id": "7f3492fe-6c0c-4f95-bb2c-ed27a2a0978e",
   "metadata": {},
   "outputs": [
    {
     "name": "stdout",
     "output_type": "stream",
     "text": [
      "(2, 24, 6) (2, 1)\n"
     ]
    }
   ],
   "source": [
    "example_result\n",
    "print(np.shape(x_train[0:2]), np.shape(example_result))"
   ]
  },
  {
   "cell_type": "code",
   "execution_count": 9,
   "id": "589ab451-ecff-454a-a05b-c8a68d2d4fe8",
   "metadata": {},
   "outputs": [
    {
     "name": "stdout",
     "output_type": "stream",
     "text": [
      "Train on 17331 samples, validate on 1926 samples\n",
      "Epoch 1/200\n"
     ]
    },
    {
     "name": "stderr",
     "output_type": "stream",
     "text": [
      "2021-09-20 11:51:23.511987: W tensorflow/core/grappler/optimizers/implementation_selector.cc:310] Skipping optimization due to error while loading function libraries: Invalid argument: Functions '__inference___backward_standard_lstm_11810_12295_specialized_for_StatefulPartitionedCall_2_at___inference_distributed_function_12966' and '__inference___backward_standard_lstm_11810_12295' both implement 'lstm_86018071-b6dc-4ac2-8fbb-23afe28cdbd5' but their signatures do not match.\n"
     ]
    },
    {
     "name": "stdout",
     "output_type": "stream",
     "text": [
      "17312/17331 [============================>.] - ETA: 0s - loss: 0.0045 - mse: 0.0045"
     ]
    },
    {
     "name": "stderr",
     "output_type": "stream",
     "text": [
      "2021-09-20 11:52:17.922500: W tensorflow/core/grappler/optimizers/implementation_selector.cc:310] Skipping optimization due to error while loading function libraries: Invalid argument: Functions '__inference_standard_lstm_16191_specialized_for_sequential_lstm_3_StatefulPartitionedCall_at___inference_distributed_function_16533' and '__inference_cudnn_lstm_with_fallback_16302' both implement 'lstm_813e7d1b-99f4-41b1-a5af-fc59812cbcb5' but their signatures do not match.\n"
     ]
    },
    {
     "name": "stdout",
     "output_type": "stream",
     "text": [
      "17331/17331 [==============================] - 61s 4ms/sample - loss: 0.0045 - mse: 0.0045 - val_loss: 0.0029 - val_mse: 0.0029\n",
      "Epoch 2/200\n",
      "17331/17331 [==============================] - 53s 3ms/sample - loss: 0.0016 - mse: 0.0016 - val_loss: 0.0011 - val_mse: 0.0011\n",
      "Epoch 3/200\n",
      "17331/17331 [==============================] - 54s 3ms/sample - loss: 8.1798e-04 - mse: 8.1798e-04 - val_loss: 8.2084e-04 - val_mse: 8.2084e-04\n",
      "Epoch 4/200\n",
      "17331/17331 [==============================] - 48s 3ms/sample - loss: 7.3288e-04 - mse: 7.3288e-04 - val_loss: 7.5251e-04 - val_mse: 7.5251e-04\n",
      "Epoch 5/200\n",
      "17331/17331 [==============================] - 49s 3ms/sample - loss: 6.9008e-04 - mse: 6.9008e-04 - val_loss: 7.3000e-04 - val_mse: 7.3000e-04\n",
      "Epoch 6/200\n",
      "17331/17331 [==============================] - 51s 3ms/sample - loss: 6.8061e-04 - mse: 6.8061e-04 - val_loss: 7.5859e-04 - val_mse: 7.5859e-04\n",
      "Epoch 7/200\n",
      "17331/17331 [==============================] - 51s 3ms/sample - loss: 6.7018e-04 - mse: 6.7018e-04 - val_loss: 7.1847e-04 - val_mse: 7.1847e-04\n",
      "Epoch 8/200\n",
      "17331/17331 [==============================] - 53s 3ms/sample - loss: 6.6399e-04 - mse: 6.6399e-04 - val_loss: 7.6275e-04 - val_mse: 7.6275e-04\n",
      "Epoch 9/200\n",
      "17331/17331 [==============================] - 53s 3ms/sample - loss: 6.7244e-04 - mse: 6.7244e-04 - val_loss: 7.0588e-04 - val_mse: 7.0588e-04\n",
      "Epoch 10/200\n",
      "17331/17331 [==============================] - 56s 3ms/sample - loss: 6.4260e-04 - mse: 6.4260e-04 - val_loss: 7.1243e-04 - val_mse: 7.1243e-04\n",
      "Epoch 11/200\n",
      "17331/17331 [==============================] - 58s 3ms/sample - loss: 6.4613e-04 - mse: 6.4613e-04 - val_loss: 7.4296e-04 - val_mse: 7.4296e-04\n",
      "Epoch 12/200\n",
      "17331/17331 [==============================] - 58s 3ms/sample - loss: 6.3745e-04 - mse: 6.3745e-04 - val_loss: 7.1333e-04 - val_mse: 7.1333e-04\n",
      "Epoch 13/200\n",
      "17331/17331 [==============================] - 62s 4ms/sample - loss: 6.4894e-04 - mse: 6.4894e-04 - val_loss: 7.2560e-04 - val_mse: 7.2560e-04\n",
      "Epoch 14/200\n",
      "17331/17331 [==============================] - 61s 4ms/sample - loss: 6.4191e-04 - mse: 6.4191e-04 - val_loss: 7.7303e-04 - val_mse: 7.7303e-04\n",
      "Epoch 15/200\n",
      "17331/17331 [==============================] - 64s 4ms/sample - loss: 6.3424e-04 - mse: 6.3424e-04 - val_loss: 6.9472e-04 - val_mse: 6.9472e-04\n",
      "Epoch 16/200\n",
      "17331/17331 [==============================] - 68s 4ms/sample - loss: 6.3576e-04 - mse: 6.3576e-04 - val_loss: 7.4417e-04 - val_mse: 7.4417e-04\n",
      "Epoch 17/200\n",
      "17331/17331 [==============================] - 64s 4ms/sample - loss: 6.2892e-04 - mse: 6.2892e-04 - val_loss: 9.0498e-04 - val_mse: 9.0498e-04\n",
      "Epoch 18/200\n",
      "17331/17331 [==============================] - 64s 4ms/sample - loss: 6.2557e-04 - mse: 6.2557e-04 - val_loss: 8.0662e-04 - val_mse: 8.0662e-04\n",
      "Epoch 19/200\n",
      "17331/17331 [==============================] - 67s 4ms/sample - loss: 6.3194e-04 - mse: 6.3194e-04 - val_loss: 7.9836e-04 - val_mse: 7.9836e-04\n",
      "Epoch 20/200\n",
      "17331/17331 [==============================] - 65s 4ms/sample - loss: 6.1535e-04 - mse: 6.1535e-04 - val_loss: 7.5325e-04 - val_mse: 7.5325e-04\n",
      "Epoch 21/200\n",
      "17331/17331 [==============================] - 67s 4ms/sample - loss: 6.2452e-04 - mse: 6.2452e-04 - val_loss: 6.9178e-04 - val_mse: 6.9178e-04\n",
      "Epoch 22/200\n",
      "17331/17331 [==============================] - 71s 4ms/sample - loss: 6.1404e-04 - mse: 6.1404e-04 - val_loss: 7.1034e-04 - val_mse: 7.1034e-04\n",
      "Epoch 23/200\n",
      "17331/17331 [==============================] - 75s 4ms/sample - loss: 6.0968e-04 - mse: 6.0968e-04 - val_loss: 7.2097e-04 - val_mse: 7.2097e-04\n",
      "Epoch 24/200\n",
      "17331/17331 [==============================] - 64s 4ms/sample - loss: 6.1230e-04 - mse: 6.1230e-04 - val_loss: 6.9503e-04 - val_mse: 6.9503e-04\n",
      "Epoch 25/200\n",
      "17331/17331 [==============================] - 64s 4ms/sample - loss: 6.0783e-04 - mse: 6.0783e-04 - val_loss: 7.1731e-04 - val_mse: 7.1731e-04\n",
      "Epoch 26/200\n",
      "17331/17331 [==============================] - 63s 4ms/sample - loss: 6.0783e-04 - mse: 6.0783e-04 - val_loss: 6.8264e-04 - val_mse: 6.8264e-04\n",
      "Epoch 27/200\n",
      "17331/17331 [==============================] - 60s 3ms/sample - loss: 6.0504e-04 - mse: 6.0504e-04 - val_loss: 6.8940e-04 - val_mse: 6.8940e-04\n",
      "Epoch 28/200\n",
      "17331/17331 [==============================] - 61s 4ms/sample - loss: 6.0032e-04 - mse: 6.0032e-04 - val_loss: 7.3439e-04 - val_mse: 7.3439e-04\n",
      "Epoch 29/200\n",
      "17331/17331 [==============================] - 58s 3ms/sample - loss: 5.9651e-04 - mse: 5.9651e-04 - val_loss: 7.5483e-04 - val_mse: 7.5483e-04\n",
      "Epoch 30/200\n",
      "17331/17331 [==============================] - 58s 3ms/sample - loss: 5.9052e-04 - mse: 5.9052e-04 - val_loss: 7.7412e-04 - val_mse: 7.7412e-04\n",
      "Epoch 31/200\n",
      "17331/17331 [==============================] - 58s 3ms/sample - loss: 5.8645e-04 - mse: 5.8645e-04 - val_loss: 6.9272e-04 - val_mse: 6.9272e-04\n",
      "Epoch 32/200\n",
      "17331/17331 [==============================] - 57s 3ms/sample - loss: 5.9526e-04 - mse: 5.9526e-04 - val_loss: 8.2187e-04 - val_mse: 8.2187e-04\n",
      "Epoch 33/200\n",
      "17331/17331 [==============================] - 58s 3ms/sample - loss: 5.9074e-04 - mse: 5.9074e-04 - val_loss: 7.5813e-04 - val_mse: 7.5813e-04\n",
      "Epoch 34/200\n",
      "17331/17331 [==============================] - 57s 3ms/sample - loss: 5.7815e-04 - mse: 5.7815e-04 - val_loss: 7.3662e-04 - val_mse: 7.3662e-04\n",
      "Epoch 35/200\n",
      "17331/17331 [==============================] - 57s 3ms/sample - loss: 5.8073e-04 - mse: 5.8072e-04 - val_loss: 7.4852e-04 - val_mse: 7.4852e-04\n",
      "Epoch 36/200\n",
      "17331/17331 [==============================] - 60s 3ms/sample - loss: 5.7910e-04 - mse: 5.7910e-04 - val_loss: 6.8850e-04 - val_mse: 6.8850e-04\n",
      "Epoch 37/200\n",
      "17331/17331 [==============================] - 61s 4ms/sample - loss: 5.8813e-04 - mse: 5.8813e-04 - val_loss: 6.8644e-04 - val_mse: 6.8644e-04\n",
      "Epoch 38/200\n",
      "17331/17331 [==============================] - 62s 4ms/sample - loss: 5.7750e-04 - mse: 5.7750e-04 - val_loss: 6.9845e-04 - val_mse: 6.9845e-04\n",
      "Epoch 39/200\n",
      "17331/17331 [==============================] - 60s 3ms/sample - loss: 5.7620e-04 - mse: 5.7620e-04 - val_loss: 6.7599e-04 - val_mse: 6.7599e-04\n",
      "Epoch 40/200\n",
      "17331/17331 [==============================] - 62s 4ms/sample - loss: 5.7140e-04 - mse: 5.7140e-04 - val_loss: 7.7481e-04 - val_mse: 7.7481e-04\n",
      "Epoch 41/200\n",
      "17331/17331 [==============================] - 62s 4ms/sample - loss: 5.6421e-04 - mse: 5.6421e-04 - val_loss: 6.6868e-04 - val_mse: 6.6868e-04\n",
      "Epoch 42/200\n",
      "17331/17331 [==============================] - 63s 4ms/sample - loss: 5.7466e-04 - mse: 5.7466e-04 - val_loss: 6.7321e-04 - val_mse: 6.7321e-04\n",
      "Epoch 43/200\n",
      "17331/17331 [==============================] - 61s 4ms/sample - loss: 5.6662e-04 - mse: 5.6662e-04 - val_loss: 6.7430e-04 - val_mse: 6.7430e-04\n",
      "Epoch 44/200\n",
      "17331/17331 [==============================] - 69s 4ms/sample - loss: 5.6134e-04 - mse: 5.6134e-04 - val_loss: 6.6733e-04 - val_mse: 6.6733e-04\n",
      "Epoch 45/200\n",
      "17331/17331 [==============================] - 68s 4ms/sample - loss: 5.5800e-04 - mse: 5.5800e-04 - val_loss: 7.0370e-04 - val_mse: 7.0370e-04\n",
      "Epoch 46/200\n",
      "17331/17331 [==============================] - 60s 3ms/sample - loss: 5.6302e-04 - mse: 5.6302e-04 - val_loss: 7.0378e-04 - val_mse: 7.0378e-04\n",
      "Epoch 47/200\n",
      "17331/17331 [==============================] - 61s 4ms/sample - loss: 5.5805e-04 - mse: 5.5805e-04 - val_loss: 7.1478e-04 - val_mse: 7.1478e-04\n",
      "Epoch 48/200\n",
      "17331/17331 [==============================] - 61s 4ms/sample - loss: 5.6344e-04 - mse: 5.6344e-04 - val_loss: 6.6998e-04 - val_mse: 6.6998e-04\n",
      "Epoch 49/200\n",
      "17331/17331 [==============================] - 59s 3ms/sample - loss: 5.5924e-04 - mse: 5.5924e-04 - val_loss: 6.7102e-04 - val_mse: 6.7102e-04\n",
      "Epoch 50/200\n",
      "17331/17331 [==============================] - 61s 4ms/sample - loss: 5.6389e-04 - mse: 5.6389e-04 - val_loss: 6.6946e-04 - val_mse: 6.6946e-04\n",
      "Epoch 51/200\n",
      "17331/17331 [==============================] - 60s 3ms/sample - loss: 5.5077e-04 - mse: 5.5077e-04 - val_loss: 6.5633e-04 - val_mse: 6.5633e-04\n",
      "Epoch 52/200\n",
      "17331/17331 [==============================] - 60s 3ms/sample - loss: 5.5326e-04 - mse: 5.5325e-04 - val_loss: 7.9856e-04 - val_mse: 7.9856e-04\n",
      "Epoch 53/200\n",
      "17331/17331 [==============================] - 61s 4ms/sample - loss: 5.5455e-04 - mse: 5.5455e-04 - val_loss: 7.1804e-04 - val_mse: 7.1804e-04\n",
      "Epoch 54/200\n",
      "17331/17331 [==============================] - 61s 4ms/sample - loss: 5.5271e-04 - mse: 5.5271e-04 - val_loss: 6.5850e-04 - val_mse: 6.5850e-04\n",
      "Epoch 55/200\n",
      "17331/17331 [==============================] - 66s 4ms/sample - loss: 5.5241e-04 - mse: 5.5241e-04 - val_loss: 6.7455e-04 - val_mse: 6.7455e-04\n",
      "Epoch 56/200\n",
      "17331/17331 [==============================] - 65s 4ms/sample - loss: 5.4446e-04 - mse: 5.4446e-04 - val_loss: 6.8048e-04 - val_mse: 6.8048e-04\n",
      "Epoch 57/200\n",
      "17331/17331 [==============================] - 64s 4ms/sample - loss: 5.4360e-04 - mse: 5.4360e-04 - val_loss: 7.1930e-04 - val_mse: 7.1930e-04\n",
      "Epoch 58/200\n",
      "17331/17331 [==============================] - 69s 4ms/sample - loss: 5.4996e-04 - mse: 5.4996e-04 - val_loss: 6.7380e-04 - val_mse: 6.7380e-04\n",
      "Epoch 59/200\n",
      "17331/17331 [==============================] - 66s 4ms/sample - loss: 5.4024e-04 - mse: 5.4024e-04 - val_loss: 6.7834e-04 - val_mse: 6.7834e-04\n",
      "Epoch 60/200\n",
      "17331/17331 [==============================] - 66s 4ms/sample - loss: 5.4443e-04 - mse: 5.4443e-04 - val_loss: 6.7115e-04 - val_mse: 6.7115e-04\n",
      "Epoch 61/200\n",
      "17331/17331 [==============================] - 72s 4ms/sample - loss: 5.4235e-04 - mse: 5.4235e-04 - val_loss: 7.3337e-04 - val_mse: 7.3337e-04\n",
      "Epoch 62/200\n",
      "17331/17331 [==============================] - 74s 4ms/sample - loss: 5.4207e-04 - mse: 5.4207e-04 - val_loss: 6.7187e-04 - val_mse: 6.7187e-04\n",
      "Epoch 63/200\n",
      "17331/17331 [==============================] - 72s 4ms/sample - loss: 5.3871e-04 - mse: 5.3871e-04 - val_loss: 6.5338e-04 - val_mse: 6.5338e-04\n",
      "Epoch 64/200\n",
      "17331/17331 [==============================] - 67s 4ms/sample - loss: 5.4119e-04 - mse: 5.4119e-04 - val_loss: 6.4796e-04 - val_mse: 6.4796e-04\n",
      "Epoch 65/200\n",
      "17331/17331 [==============================] - 69s 4ms/sample - loss: 5.3720e-04 - mse: 5.3720e-04 - val_loss: 6.7072e-04 - val_mse: 6.7073e-04\n",
      "Epoch 66/200\n",
      "17331/17331 [==============================] - 74s 4ms/sample - loss: 5.3066e-04 - mse: 5.3066e-04 - val_loss: 7.0862e-04 - val_mse: 7.0862e-04\n",
      "Epoch 67/200\n",
      "17331/17331 [==============================] - 87s 5ms/sample - loss: 5.3968e-04 - mse: 5.3968e-04 - val_loss: 6.7001e-04 - val_mse: 6.7001e-04\n",
      "Epoch 68/200\n",
      "17331/17331 [==============================] - 75s 4ms/sample - loss: 5.3079e-04 - mse: 5.3079e-04 - val_loss: 6.6081e-04 - val_mse: 6.6081e-04\n",
      "Epoch 69/200\n",
      "17331/17331 [==============================] - 61s 4ms/sample - loss: 5.3527e-04 - mse: 5.3527e-04 - val_loss: 6.9366e-04 - val_mse: 6.9366e-04\n",
      "Epoch 70/200\n",
      "17331/17331 [==============================] - 60s 3ms/sample - loss: 5.2889e-04 - mse: 5.2889e-04 - val_loss: 7.0017e-04 - val_mse: 7.0017e-04\n",
      "Epoch 71/200\n",
      "17331/17331 [==============================] - 59s 3ms/sample - loss: 5.3449e-04 - mse: 5.3449e-04 - val_loss: 6.5359e-04 - val_mse: 6.5359e-04\n",
      "Epoch 72/200\n",
      "17331/17331 [==============================] - 58s 3ms/sample - loss: 5.2398e-04 - mse: 5.2398e-04 - val_loss: 6.7487e-04 - val_mse: 6.7487e-04\n",
      "Epoch 73/200\n",
      "17331/17331 [==============================] - 56s 3ms/sample - loss: 5.2374e-04 - mse: 5.2374e-04 - val_loss: 6.5223e-04 - val_mse: 6.5223e-04\n",
      "Epoch 74/200\n",
      "17331/17331 [==============================] - 57s 3ms/sample - loss: 5.2173e-04 - mse: 5.2173e-04 - val_loss: 6.8675e-04 - val_mse: 6.8675e-04\n",
      "Epoch 75/200\n",
      "17331/17331 [==============================] - 56s 3ms/sample - loss: 5.2999e-04 - mse: 5.2999e-04 - val_loss: 6.6506e-04 - val_mse: 6.6506e-04\n",
      "Epoch 76/200\n",
      "17331/17331 [==============================] - 56s 3ms/sample - loss: 5.2223e-04 - mse: 5.2223e-04 - val_loss: 7.3588e-04 - val_mse: 7.3588e-04\n",
      "Epoch 77/200\n",
      "17331/17331 [==============================] - 60s 3ms/sample - loss: 5.2072e-04 - mse: 5.2072e-04 - val_loss: 6.6214e-04 - val_mse: 6.6214e-04\n",
      "Epoch 78/200\n",
      "17331/17331 [==============================] - 57s 3ms/sample - loss: 5.2519e-04 - mse: 5.2519e-04 - val_loss: 6.8182e-04 - val_mse: 6.8182e-04\n",
      "Epoch 79/200\n",
      "17331/17331 [==============================] - 58s 3ms/sample - loss: 5.2771e-04 - mse: 5.2771e-04 - val_loss: 7.0507e-04 - val_mse: 7.0507e-04\n",
      "Epoch 80/200\n",
      "17331/17331 [==============================] - 61s 4ms/sample - loss: 5.1192e-04 - mse: 5.1192e-04 - val_loss: 6.6472e-04 - val_mse: 6.6472e-04\n",
      "Epoch 81/200\n",
      "17331/17331 [==============================] - 56s 3ms/sample - loss: 5.1205e-04 - mse: 5.1205e-04 - val_loss: 6.6881e-04 - val_mse: 6.6881e-04\n",
      "Epoch 82/200\n",
      "17331/17331 [==============================] - 57s 3ms/sample - loss: 5.1398e-04 - mse: 5.1398e-04 - val_loss: 6.7219e-04 - val_mse: 6.7219e-04\n",
      "Epoch 83/200\n",
      "17331/17331 [==============================] - 55s 3ms/sample - loss: 5.2213e-04 - mse: 5.2213e-04 - val_loss: 6.6907e-04 - val_mse: 6.6907e-04\n",
      "Epoch 84/200\n",
      "17331/17331 [==============================] - 64s 4ms/sample - loss: 5.1182e-04 - mse: 5.1182e-04 - val_loss: 6.6778e-04 - val_mse: 6.6778e-04\n",
      "Epoch 85/200\n",
      "17331/17331 [==============================] - 56s 3ms/sample - loss: 5.1395e-04 - mse: 5.1395e-04 - val_loss: 6.7411e-04 - val_mse: 6.7411e-04\n",
      "Epoch 86/200\n",
      "17331/17331 [==============================] - 56s 3ms/sample - loss: 5.0540e-04 - mse: 5.0540e-04 - val_loss: 6.6181e-04 - val_mse: 6.6181e-04\n",
      "Epoch 87/200\n",
      "17331/17331 [==============================] - 44s 3ms/sample - loss: 5.0337e-04 - mse: 5.0337e-04 - val_loss: 6.4724e-04 - val_mse: 6.4724e-04\n",
      "Epoch 88/200\n",
      "17331/17331 [==============================] - 44s 3ms/sample - loss: 5.1222e-04 - mse: 5.1222e-04 - val_loss: 6.5944e-04 - val_mse: 6.5944e-04\n",
      "Epoch 89/200\n",
      "17331/17331 [==============================] - 45s 3ms/sample - loss: 5.0887e-04 - mse: 5.0887e-04 - val_loss: 6.9895e-04 - val_mse: 6.9895e-04\n",
      "Epoch 90/200\n",
      "17331/17331 [==============================] - 45s 3ms/sample - loss: 5.0055e-04 - mse: 5.0055e-04 - val_loss: 6.8673e-04 - val_mse: 6.8673e-04\n",
      "Epoch 91/200\n",
      "17331/17331 [==============================] - 46s 3ms/sample - loss: 5.0318e-04 - mse: 5.0318e-04 - val_loss: 6.6925e-04 - val_mse: 6.6925e-04\n",
      "Epoch 92/200\n",
      "17331/17331 [==============================] - 45s 3ms/sample - loss: 5.0180e-04 - mse: 5.0180e-04 - val_loss: 6.9098e-04 - val_mse: 6.9098e-04\n",
      "Epoch 93/200\n",
      "17331/17331 [==============================] - 46s 3ms/sample - loss: 5.0049e-04 - mse: 5.0049e-04 - val_loss: 6.6402e-04 - val_mse: 6.6402e-04\n",
      "Epoch 94/200\n",
      "17331/17331 [==============================] - 45s 3ms/sample - loss: 5.0337e-04 - mse: 5.0337e-04 - val_loss: 7.2228e-04 - val_mse: 7.2228e-04\n",
      "Epoch 95/200\n",
      "17331/17331 [==============================] - 47s 3ms/sample - loss: 4.9371e-04 - mse: 4.9371e-04 - val_loss: 6.9328e-04 - val_mse: 6.9328e-04\n",
      "Epoch 96/200\n",
      "17331/17331 [==============================] - 43s 3ms/sample - loss: 5.0053e-04 - mse: 5.0053e-04 - val_loss: 6.8521e-04 - val_mse: 6.8521e-04\n",
      "Epoch 97/200\n",
      "17331/17331 [==============================] - 43s 2ms/sample - loss: 4.9517e-04 - mse: 4.9516e-04 - val_loss: 6.9414e-04 - val_mse: 6.9414e-04\n",
      "Epoch 98/200\n",
      "17331/17331 [==============================] - 46s 3ms/sample - loss: 4.9254e-04 - mse: 4.9254e-04 - val_loss: 7.1480e-04 - val_mse: 7.1480e-04\n",
      "Epoch 99/200\n",
      "17331/17331 [==============================] - 45s 3ms/sample - loss: 4.8614e-04 - mse: 4.8614e-04 - val_loss: 6.7548e-04 - val_mse: 6.7548e-04\n",
      "Epoch 100/200\n",
      "17331/17331 [==============================] - 46s 3ms/sample - loss: 4.8864e-04 - mse: 4.8864e-04 - val_loss: 6.7334e-04 - val_mse: 6.7334e-04\n",
      "Epoch 101/200\n",
      "17331/17331 [==============================] - 46s 3ms/sample - loss: 4.8837e-04 - mse: 4.8837e-04 - val_loss: 6.8634e-04 - val_mse: 6.8634e-04\n",
      "Epoch 102/200\n",
      "17331/17331 [==============================] - 45s 3ms/sample - loss: 4.8745e-04 - mse: 4.8745e-04 - val_loss: 6.7621e-04 - val_mse: 6.7621e-04\n",
      "Epoch 103/200\n",
      "17331/17331 [==============================] - 45s 3ms/sample - loss: 4.8532e-04 - mse: 4.8532e-04 - val_loss: 6.8159e-04 - val_mse: 6.8159e-04\n",
      "Epoch 104/200\n",
      "17331/17331 [==============================] - 44s 3ms/sample - loss: 4.8828e-04 - mse: 4.8828e-04 - val_loss: 7.0987e-04 - val_mse: 7.0987e-04\n",
      "Epoch 105/200\n",
      "17331/17331 [==============================] - 44s 3ms/sample - loss: 4.8580e-04 - mse: 4.8580e-04 - val_loss: 7.6102e-04 - val_mse: 7.6102e-04\n",
      "Epoch 106/200\n",
      "17331/17331 [==============================] - 44s 3ms/sample - loss: 4.8707e-04 - mse: 4.8707e-04 - val_loss: 7.0047e-04 - val_mse: 7.0047e-04\n",
      "Epoch 107/200\n",
      "17331/17331 [==============================] - 43s 2ms/sample - loss: 4.8590e-04 - mse: 4.8590e-04 - val_loss: 6.6979e-04 - val_mse: 6.6979e-04\n",
      "Epoch 108/200\n",
      "17331/17331 [==============================] - 44s 3ms/sample - loss: 4.8155e-04 - mse: 4.8155e-04 - val_loss: 6.5814e-04 - val_mse: 6.5814e-04\n",
      "Epoch 109/200\n",
      "17331/17331 [==============================] - 45s 3ms/sample - loss: 4.8011e-04 - mse: 4.8011e-04 - val_loss: 6.7355e-04 - val_mse: 6.7355e-04\n",
      "Epoch 110/200\n",
      "17331/17331 [==============================] - 44s 3ms/sample - loss: 4.7975e-04 - mse: 4.7975e-04 - val_loss: 7.1422e-04 - val_mse: 7.1422e-04\n",
      "Epoch 111/200\n",
      "17331/17331 [==============================] - 44s 3ms/sample - loss: 4.7673e-04 - mse: 4.7673e-04 - val_loss: 7.0710e-04 - val_mse: 7.0710e-04\n",
      "Epoch 112/200\n",
      "17331/17331 [==============================] - 44s 3ms/sample - loss: 4.8186e-04 - mse: 4.8186e-04 - val_loss: 6.6979e-04 - val_mse: 6.6979e-04\n",
      "Epoch 113/200\n",
      "17331/17331 [==============================] - 44s 3ms/sample - loss: 4.7548e-04 - mse: 4.7548e-04 - val_loss: 6.8565e-04 - val_mse: 6.8565e-04\n",
      "Epoch 114/200\n",
      "17331/17331 [==============================] - 44s 3ms/sample - loss: 4.7622e-04 - mse: 4.7622e-04 - val_loss: 7.4358e-04 - val_mse: 7.4358e-04\n",
      "Epoch 115/200\n",
      "17331/17331 [==============================] - 44s 3ms/sample - loss: 4.6854e-04 - mse: 4.6854e-04 - val_loss: 6.9287e-04 - val_mse: 6.9288e-04\n",
      "Epoch 116/200\n",
      "17331/17331 [==============================] - 43s 2ms/sample - loss: 4.7684e-04 - mse: 4.7684e-04 - val_loss: 7.3911e-04 - val_mse: 7.3911e-04\n",
      "Epoch 117/200\n",
      "17331/17331 [==============================] - 43s 2ms/sample - loss: 4.7098e-04 - mse: 4.7098e-04 - val_loss: 7.0825e-04 - val_mse: 7.0825e-04\n",
      "Epoch 118/200\n",
      "17331/17331 [==============================] - 44s 3ms/sample - loss: 4.6631e-04 - mse: 4.6631e-04 - val_loss: 7.0244e-04 - val_mse: 7.0244e-04\n",
      "Epoch 119/200\n",
      "17331/17331 [==============================] - 48s 3ms/sample - loss: 4.6730e-04 - mse: 4.6730e-04 - val_loss: 6.6520e-04 - val_mse: 6.6520e-04\n",
      "Epoch 120/200\n",
      "17331/17331 [==============================] - 51s 3ms/sample - loss: 4.7127e-04 - mse: 4.7127e-04 - val_loss: 6.9768e-04 - val_mse: 6.9768e-04\n",
      "Epoch 121/200\n",
      "17331/17331 [==============================] - 50s 3ms/sample - loss: 4.6303e-04 - mse: 4.6303e-04 - val_loss: 6.8559e-04 - val_mse: 6.8559e-04\n",
      "Epoch 122/200\n",
      "17331/17331 [==============================] - 45s 3ms/sample - loss: 4.6115e-04 - mse: 4.6115e-04 - val_loss: 6.8825e-04 - val_mse: 6.8825e-04\n",
      "Epoch 123/200\n",
      "17331/17331 [==============================] - 43s 3ms/sample - loss: 4.5984e-04 - mse: 4.5984e-04 - val_loss: 7.4640e-04 - val_mse: 7.4640e-04\n",
      "Epoch 124/200\n",
      "17331/17331 [==============================] - 43s 2ms/sample - loss: 4.6024e-04 - mse: 4.6024e-04 - val_loss: 7.2389e-04 - val_mse: 7.2389e-04\n",
      "Epoch 125/200\n",
      "17331/17331 [==============================] - 44s 3ms/sample - loss: 4.5911e-04 - mse: 4.5912e-04 - val_loss: 6.9879e-04 - val_mse: 6.9879e-04\n",
      "Epoch 126/200\n",
      "17331/17331 [==============================] - 47s 3ms/sample - loss: 4.5894e-04 - mse: 4.5894e-04 - val_loss: 7.1030e-04 - val_mse: 7.1030e-04\n",
      "Epoch 127/200\n",
      "17331/17331 [==============================] - 48s 3ms/sample - loss: 4.5601e-04 - mse: 4.5601e-04 - val_loss: 6.7410e-04 - val_mse: 6.7410e-04\n",
      "Epoch 128/200\n",
      "17331/17331 [==============================] - 45s 3ms/sample - loss: 4.5734e-04 - mse: 4.5734e-04 - val_loss: 7.3442e-04 - val_mse: 7.3442e-04\n",
      "Epoch 129/200\n",
      "17331/17331 [==============================] - 43s 3ms/sample - loss: 4.5808e-04 - mse: 4.5808e-04 - val_loss: 6.9239e-04 - val_mse: 6.9239e-04\n",
      "Epoch 130/200\n",
      "17331/17331 [==============================] - 43s 2ms/sample - loss: 4.5184e-04 - mse: 4.5184e-04 - val_loss: 7.0303e-04 - val_mse: 7.0303e-04\n",
      "Epoch 131/200\n",
      "17331/17331 [==============================] - 43s 2ms/sample - loss: 4.5070e-04 - mse: 4.5070e-04 - val_loss: 7.0708e-04 - val_mse: 7.0708e-04\n",
      "Epoch 132/200\n",
      "17331/17331 [==============================] - 44s 3ms/sample - loss: 4.5556e-04 - mse: 4.5556e-04 - val_loss: 6.9352e-04 - val_mse: 6.9352e-04\n",
      "Epoch 133/200\n",
      "17331/17331 [==============================] - 46s 3ms/sample - loss: 4.4845e-04 - mse: 4.4845e-04 - val_loss: 7.1180e-04 - val_mse: 7.1180e-04\n",
      "Epoch 134/200\n",
      "17331/17331 [==============================] - 44s 3ms/sample - loss: 4.4953e-04 - mse: 4.4953e-04 - val_loss: 7.6861e-04 - val_mse: 7.6861e-04\n",
      "Epoch 135/200\n",
      "17331/17331 [==============================] - 44s 3ms/sample - loss: 4.4452e-04 - mse: 4.4452e-04 - val_loss: 6.8878e-04 - val_mse: 6.8878e-04\n",
      "Epoch 136/200\n",
      "17331/17331 [==============================] - 47s 3ms/sample - loss: 4.4600e-04 - mse: 4.4600e-04 - val_loss: 7.3919e-04 - val_mse: 7.3919e-04\n",
      "Epoch 137/200\n",
      "17331/17331 [==============================] - 49s 3ms/sample - loss: 4.4675e-04 - mse: 4.4676e-04 - val_loss: 7.4824e-04 - val_mse: 7.4824e-04\n",
      "Epoch 138/200\n",
      "17331/17331 [==============================] - 47s 3ms/sample - loss: 4.4234e-04 - mse: 4.4234e-04 - val_loss: 7.0692e-04 - val_mse: 7.0692e-04\n",
      "Epoch 139/200\n",
      "17331/17331 [==============================] - 47s 3ms/sample - loss: 4.4305e-04 - mse: 4.4305e-04 - val_loss: 6.5971e-04 - val_mse: 6.5971e-04\n",
      "Epoch 140/200\n",
      "17331/17331 [==============================] - 46s 3ms/sample - loss: 4.4650e-04 - mse: 4.4650e-04 - val_loss: 7.0513e-04 - val_mse: 7.0513e-04\n",
      "Epoch 141/200\n",
      "17331/17331 [==============================] - 44s 3ms/sample - loss: 4.3770e-04 - mse: 4.3770e-04 - val_loss: 6.9416e-04 - val_mse: 6.9416e-04\n",
      "Epoch 142/200\n",
      "17331/17331 [==============================] - 45s 3ms/sample - loss: 4.3805e-04 - mse: 4.3805e-04 - val_loss: 7.2088e-04 - val_mse: 7.2088e-04\n",
      "Epoch 143/200\n",
      "17331/17331 [==============================] - 44s 3ms/sample - loss: 4.4011e-04 - mse: 4.4011e-04 - val_loss: 7.3805e-04 - val_mse: 7.3805e-04\n",
      "Epoch 144/200\n",
      "17331/17331 [==============================] - 44s 3ms/sample - loss: 4.3871e-04 - mse: 4.3871e-04 - val_loss: 6.9420e-04 - val_mse: 6.9420e-04\n",
      "Epoch 145/200\n",
      "17331/17331 [==============================] - 43s 2ms/sample - loss: 4.3280e-04 - mse: 4.3280e-04 - val_loss: 7.0866e-04 - val_mse: 7.0866e-04\n",
      "Epoch 146/200\n",
      "17331/17331 [==============================] - 43s 2ms/sample - loss: 4.2640e-04 - mse: 4.2640e-04 - val_loss: 7.1789e-04 - val_mse: 7.1788e-04\n",
      "Epoch 147/200\n",
      "17331/17331 [==============================] - 44s 3ms/sample - loss: 4.3308e-04 - mse: 4.3308e-04 - val_loss: 7.0232e-04 - val_mse: 7.0232e-04\n",
      "Epoch 148/200\n",
      "17331/17331 [==============================] - 43s 2ms/sample - loss: 4.2593e-04 - mse: 4.2593e-04 - val_loss: 7.2214e-04 - val_mse: 7.2214e-04\n",
      "Epoch 149/200\n",
      "17331/17331 [==============================] - 44s 3ms/sample - loss: 4.2902e-04 - mse: 4.2902e-04 - val_loss: 6.8277e-04 - val_mse: 6.8277e-04\n",
      "Epoch 150/200\n",
      "17331/17331 [==============================] - 47s 3ms/sample - loss: 4.2426e-04 - mse: 4.2426e-04 - val_loss: 6.9309e-04 - val_mse: 6.9309e-04\n",
      "Epoch 151/200\n",
      "17331/17331 [==============================] - 47s 3ms/sample - loss: 4.2824e-04 - mse: 4.2824e-04 - val_loss: 6.8141e-04 - val_mse: 6.8141e-04\n",
      "Epoch 152/200\n",
      "17331/17331 [==============================] - 45s 3ms/sample - loss: 4.2671e-04 - mse: 4.2671e-04 - val_loss: 7.0459e-04 - val_mse: 7.0459e-04\n",
      "Epoch 153/200\n",
      "17331/17331 [==============================] - 44s 3ms/sample - loss: 4.2654e-04 - mse: 4.2654e-04 - val_loss: 6.9128e-04 - val_mse: 6.9128e-04\n",
      "Epoch 154/200\n",
      "17331/17331 [==============================] - 43s 2ms/sample - loss: 4.2798e-04 - mse: 4.2798e-04 - val_loss: 6.7699e-04 - val_mse: 6.7699e-04\n",
      "Epoch 155/200\n",
      "17331/17331 [==============================] - 44s 3ms/sample - loss: 4.1700e-04 - mse: 4.1700e-04 - val_loss: 7.0472e-04 - val_mse: 7.0472e-04\n",
      "Epoch 156/200\n",
      "17331/17331 [==============================] - 43s 2ms/sample - loss: 4.2300e-04 - mse: 4.2300e-04 - val_loss: 7.3379e-04 - val_mse: 7.3379e-04\n",
      "Epoch 157/200\n",
      "17331/17331 [==============================] - 42s 2ms/sample - loss: 4.1731e-04 - mse: 4.1731e-04 - val_loss: 7.0059e-04 - val_mse: 7.0059e-04\n",
      "Epoch 158/200\n",
      "17331/17331 [==============================] - 43s 2ms/sample - loss: 4.2132e-04 - mse: 4.2132e-04 - val_loss: 6.9928e-04 - val_mse: 6.9928e-04\n",
      "Epoch 159/200\n",
      "17331/17331 [==============================] - 44s 3ms/sample - loss: 4.1511e-04 - mse: 4.1511e-04 - val_loss: 7.1356e-04 - val_mse: 7.1356e-04\n",
      "Epoch 160/200\n",
      "17331/17331 [==============================] - 43s 2ms/sample - loss: 4.1886e-04 - mse: 4.1886e-04 - val_loss: 6.9529e-04 - val_mse: 6.9529e-04\n",
      "Epoch 161/200\n",
      "17331/17331 [==============================] - 42s 2ms/sample - loss: 4.1343e-04 - mse: 4.1343e-04 - val_loss: 7.0580e-04 - val_mse: 7.0580e-04\n",
      "Epoch 162/200\n",
      "17331/17331 [==============================] - 43s 2ms/sample - loss: 4.1513e-04 - mse: 4.1513e-04 - val_loss: 7.1797e-04 - val_mse: 7.1797e-04\n",
      "Epoch 163/200\n",
      "17331/17331 [==============================] - 42s 2ms/sample - loss: 4.1304e-04 - mse: 4.1304e-04 - val_loss: 6.8811e-04 - val_mse: 6.8811e-04\n",
      "Epoch 164/200\n",
      "17331/17331 [==============================] - 42s 2ms/sample - loss: 4.0784e-04 - mse: 4.0784e-04 - val_loss: 6.8281e-04 - val_mse: 6.8281e-04\n",
      "Epoch 165/200\n",
      "17331/17331 [==============================] - 42s 2ms/sample - loss: 4.0946e-04 - mse: 4.0946e-04 - val_loss: 7.3563e-04 - val_mse: 7.3563e-04\n",
      "Epoch 166/200\n",
      "17331/17331 [==============================] - 43s 2ms/sample - loss: 4.1145e-04 - mse: 4.1145e-04 - val_loss: 7.1048e-04 - val_mse: 7.1048e-04\n",
      "Epoch 167/200\n",
      "17331/17331 [==============================] - 43s 2ms/sample - loss: 4.1324e-04 - mse: 4.1324e-04 - val_loss: 7.3728e-04 - val_mse: 7.3728e-04\n",
      "Epoch 168/200\n",
      "17331/17331 [==============================] - 44s 3ms/sample - loss: 4.0752e-04 - mse: 4.0752e-04 - val_loss: 7.2438e-04 - val_mse: 7.2438e-04\n",
      "Epoch 169/200\n",
      "17331/17331 [==============================] - 43s 2ms/sample - loss: 4.0811e-04 - mse: 4.0811e-04 - val_loss: 7.2523e-04 - val_mse: 7.2523e-04\n",
      "Epoch 170/200\n",
      "17331/17331 [==============================] - 42s 2ms/sample - loss: 4.0291e-04 - mse: 4.0291e-04 - val_loss: 7.3150e-04 - val_mse: 7.3150e-04\n",
      "Epoch 171/200\n",
      "17331/17331 [==============================] - 43s 2ms/sample - loss: 4.0484e-04 - mse: 4.0484e-04 - val_loss: 7.1965e-04 - val_mse: 7.1965e-04\n",
      "Epoch 172/200\n",
      "17331/17331 [==============================] - 43s 2ms/sample - loss: 3.9943e-04 - mse: 3.9942e-04 - val_loss: 6.9370e-04 - val_mse: 6.9370e-04\n",
      "Epoch 173/200\n",
      "17331/17331 [==============================] - 43s 2ms/sample - loss: 4.0515e-04 - mse: 4.0515e-04 - val_loss: 7.0815e-04 - val_mse: 7.0815e-04\n",
      "Epoch 174/200\n",
      "17331/17331 [==============================] - 42s 2ms/sample - loss: 4.0357e-04 - mse: 4.0357e-04 - val_loss: 7.2559e-04 - val_mse: 7.2559e-04\n",
      "Epoch 175/200\n",
      "17331/17331 [==============================] - 43s 2ms/sample - loss: 3.9823e-04 - mse: 3.9823e-04 - val_loss: 7.0337e-04 - val_mse: 7.0337e-04\n",
      "Epoch 176/200\n",
      "17331/17331 [==============================] - 43s 2ms/sample - loss: 3.9496e-04 - mse: 3.9496e-04 - val_loss: 6.7670e-04 - val_mse: 6.7670e-04\n",
      "Epoch 177/200\n",
      "17331/17331 [==============================] - 43s 2ms/sample - loss: 3.9775e-04 - mse: 3.9775e-04 - val_loss: 7.3987e-04 - val_mse: 7.3987e-04\n",
      "Epoch 178/200\n",
      "17331/17331 [==============================] - 42s 2ms/sample - loss: 4.0053e-04 - mse: 4.0053e-04 - val_loss: 7.1343e-04 - val_mse: 7.1343e-04\n",
      "Epoch 179/200\n",
      "17331/17331 [==============================] - 42s 2ms/sample - loss: 3.9741e-04 - mse: 3.9741e-04 - val_loss: 7.1242e-04 - val_mse: 7.1242e-04\n",
      "Epoch 180/200\n",
      "17331/17331 [==============================] - 42s 2ms/sample - loss: 3.9610e-04 - mse: 3.9610e-04 - val_loss: 7.1164e-04 - val_mse: 7.1164e-04\n",
      "Epoch 181/200\n",
      "17331/17331 [==============================] - 42s 2ms/sample - loss: 3.8976e-04 - mse: 3.8976e-04 - val_loss: 7.5780e-04 - val_mse: 7.5780e-04\n",
      "Epoch 182/200\n",
      "17331/17331 [==============================] - 43s 2ms/sample - loss: 3.9044e-04 - mse: 3.9044e-04 - val_loss: 7.0237e-04 - val_mse: 7.0237e-04\n",
      "Epoch 183/200\n",
      "17331/17331 [==============================] - 43s 2ms/sample - loss: 3.9231e-04 - mse: 3.9231e-04 - val_loss: 7.2717e-04 - val_mse: 7.2717e-04\n",
      "Epoch 184/200\n",
      "17331/17331 [==============================] - 43s 2ms/sample - loss: 3.8889e-04 - mse: 3.8889e-04 - val_loss: 6.9545e-04 - val_mse: 6.9545e-04\n",
      "Epoch 185/200\n",
      "17331/17331 [==============================] - 46s 3ms/sample - loss: 3.9017e-04 - mse: 3.9017e-04 - val_loss: 7.2649e-04 - val_mse: 7.2649e-04\n",
      "Epoch 186/200\n",
      "17331/17331 [==============================] - 45s 3ms/sample - loss: 3.8927e-04 - mse: 3.8927e-04 - val_loss: 7.5704e-04 - val_mse: 7.5704e-04\n",
      "Epoch 187/200\n",
      "17331/17331 [==============================] - 43s 2ms/sample - loss: 3.9068e-04 - mse: 3.9068e-04 - val_loss: 7.1254e-04 - val_mse: 7.1254e-04\n",
      "Epoch 188/200\n",
      "17331/17331 [==============================] - 42s 2ms/sample - loss: 3.8696e-04 - mse: 3.8696e-04 - val_loss: 7.4046e-04 - val_mse: 7.4046e-04\n",
      "Epoch 189/200\n",
      "17331/17331 [==============================] - 42s 2ms/sample - loss: 3.8547e-04 - mse: 3.8547e-04 - val_loss: 7.0919e-04 - val_mse: 7.0919e-04\n",
      "Epoch 190/200\n",
      "17331/17331 [==============================] - 42s 2ms/sample - loss: 3.8390e-04 - mse: 3.8390e-04 - val_loss: 7.6122e-04 - val_mse: 7.6122e-04\n",
      "Epoch 191/200\n",
      "17331/17331 [==============================] - 43s 2ms/sample - loss: 3.8384e-04 - mse: 3.8384e-04 - val_loss: 7.0677e-04 - val_mse: 7.0677e-04\n",
      "Epoch 192/200\n",
      "17331/17331 [==============================] - 43s 2ms/sample - loss: 3.8389e-04 - mse: 3.8389e-04 - val_loss: 6.9697e-04 - val_mse: 6.9697e-04\n",
      "Epoch 193/200\n",
      "17331/17331 [==============================] - 44s 3ms/sample - loss: 3.8738e-04 - mse: 3.8738e-04 - val_loss: 7.3160e-04 - val_mse: 7.3160e-04\n",
      "Epoch 194/200\n",
      "17331/17331 [==============================] - 43s 2ms/sample - loss: 3.8101e-04 - mse: 3.8101e-04 - val_loss: 7.1211e-04 - val_mse: 7.1211e-04\n",
      "Epoch 195/200\n",
      "17331/17331 [==============================] - 43s 2ms/sample - loss: 3.7802e-04 - mse: 3.7802e-04 - val_loss: 7.4169e-04 - val_mse: 7.4169e-04\n",
      "Epoch 196/200\n",
      "17331/17331 [==============================] - 43s 2ms/sample - loss: 3.8004e-04 - mse: 3.8004e-04 - val_loss: 7.2440e-04 - val_mse: 7.2440e-04\n",
      "Epoch 197/200\n",
      "17331/17331 [==============================] - 43s 2ms/sample - loss: 3.7716e-04 - mse: 3.7716e-04 - val_loss: 7.2966e-04 - val_mse: 7.2966e-04\n",
      "Epoch 198/200\n",
      "17331/17331 [==============================] - 43s 2ms/sample - loss: 3.7575e-04 - mse: 3.7575e-04 - val_loss: 7.2110e-04 - val_mse: 7.2110e-04\n",
      "Epoch 199/200\n",
      "17331/17331 [==============================] - 43s 2ms/sample - loss: 3.7631e-04 - mse: 3.7631e-04 - val_loss: 7.3001e-04 - val_mse: 7.3001e-04\n",
      "Epoch 200/200\n",
      "17331/17331 [==============================] - 44s 3ms/sample - loss: 3.7233e-04 - mse: 3.7233e-04 - val_loss: 7.6755e-04 - val_mse: 7.6755e-04\n"
     ]
    }
   ],
   "source": [
    "#Let's do training with model.fit\n",
    "EPOCHS = 200\n",
    "history = rnn.fit(\n",
    "  x_train, y_train,\n",
    "  epochs=EPOCHS, validation_split = 0.1, verbose=1)"
   ]
  },
  {
   "cell_type": "code",
   "execution_count": 10,
   "id": "0d81eb84-de67-4257-8a05-6f4ccfd6d73d",
   "metadata": {},
   "outputs": [
    {
     "data": {
      "text/html": [
       "<div>\n",
       "<style scoped>\n",
       "    .dataframe tbody tr th:only-of-type {\n",
       "        vertical-align: middle;\n",
       "    }\n",
       "\n",
       "    .dataframe tbody tr th {\n",
       "        vertical-align: top;\n",
       "    }\n",
       "\n",
       "    .dataframe thead th {\n",
       "        text-align: right;\n",
       "    }\n",
       "</style>\n",
       "<table border=\"1\" class=\"dataframe\">\n",
       "  <thead>\n",
       "    <tr style=\"text-align: right;\">\n",
       "      <th></th>\n",
       "      <th>loss</th>\n",
       "      <th>mse</th>\n",
       "      <th>val_loss</th>\n",
       "      <th>val_mse</th>\n",
       "      <th>epoch</th>\n",
       "    </tr>\n",
       "  </thead>\n",
       "  <tbody>\n",
       "    <tr>\n",
       "      <th>195</th>\n",
       "      <td>0.000380</td>\n",
       "      <td>0.000380</td>\n",
       "      <td>0.000724</td>\n",
       "      <td>0.000724</td>\n",
       "      <td>195</td>\n",
       "    </tr>\n",
       "    <tr>\n",
       "      <th>196</th>\n",
       "      <td>0.000377</td>\n",
       "      <td>0.000377</td>\n",
       "      <td>0.000730</td>\n",
       "      <td>0.000730</td>\n",
       "      <td>196</td>\n",
       "    </tr>\n",
       "    <tr>\n",
       "      <th>197</th>\n",
       "      <td>0.000376</td>\n",
       "      <td>0.000376</td>\n",
       "      <td>0.000721</td>\n",
       "      <td>0.000721</td>\n",
       "      <td>197</td>\n",
       "    </tr>\n",
       "    <tr>\n",
       "      <th>198</th>\n",
       "      <td>0.000376</td>\n",
       "      <td>0.000376</td>\n",
       "      <td>0.000730</td>\n",
       "      <td>0.000730</td>\n",
       "      <td>198</td>\n",
       "    </tr>\n",
       "    <tr>\n",
       "      <th>199</th>\n",
       "      <td>0.000372</td>\n",
       "      <td>0.000372</td>\n",
       "      <td>0.000768</td>\n",
       "      <td>0.000768</td>\n",
       "      <td>199</td>\n",
       "    </tr>\n",
       "  </tbody>\n",
       "</table>\n",
       "</div>"
      ],
      "text/plain": [
       "         loss       mse  val_loss   val_mse  epoch\n",
       "195  0.000380  0.000380  0.000724  0.000724    195\n",
       "196  0.000377  0.000377  0.000730  0.000730    196\n",
       "197  0.000376  0.000376  0.000721  0.000721    197\n",
       "198  0.000376  0.000376  0.000730  0.000730    198\n",
       "199  0.000372  0.000372  0.000768  0.000768    199"
      ]
     },
     "execution_count": 10,
     "metadata": {},
     "output_type": "execute_result"
    }
   ],
   "source": [
    "import pandas as pd\n",
    "hist = pd.DataFrame(history.history)\n",
    "hist['epoch'] = history.epoch\n",
    "hist.tail()"
   ]
  },
  {
   "cell_type": "code",
   "execution_count": 11,
   "id": "6c78d17e-18ae-4222-8304-4900c89b77fc",
   "metadata": {},
   "outputs": [
    {
     "data": {
      "image/png": "[encoded data removed]",
      "text/plain": [
       "<Figure size 576x864 with 1 Axes>"
      ]
     },
     "metadata": {
      "needs_background": "light"
     },
     "output_type": "display_data"
    }
   ],
   "source": [
    "import matplotlib.pyplot as plt\n",
    "\n",
    "def plot_history(history):\n",
    "  hist = pd.DataFrame(history.history)\n",
    "  hist['epoch'] = history.epoch\n",
    "\n",
    "  plt.figure(figsize=(8,12))\n",
    "\n",
    "  plt.xlabel('Epoch')\n",
    "  plt.ylabel('Mean Square Error')\n",
    "  plt.plot(hist['epoch'], hist['mse'],\n",
    "           label='Train Error')\n",
    "  plt.plot(hist['epoch'], hist['val_mse'],\n",
    "           label = 'Val Error')\n",
    "  plt.ylim([0,0.006])\n",
    "  plt.legend()\n",
    "  plt.show()\n",
    "\n",
    "plot_history(history)"
   ]
  },
  {
   "cell_type": "code",
   "execution_count": 12,
   "id": "cdbdbf18-a029-4a43-9860-60edee767028",
   "metadata": {},
   "outputs": [
    {
     "name": "stdout",
     "output_type": "stream",
     "text": [
      "(4815, 1)\n"
     ]
    }
   ],
   "source": [
    "test_predictions = rnn.predict(x_test).flatten()\n",
    "print(np.shape(y_test))"
   ]
  },
  {
   "cell_type": "code",
   "execution_count": 13,
   "id": "47a958bb-f562-46e6-89e5-d9b081bce7e6",
   "metadata": {},
   "outputs": [
    {
     "name": "stdout",
     "output_type": "stream",
     "text": [
      "4815/1 - 3s - loss: 4.1031e-04 - mse: 6.3860e-04\n",
      "MSE of testset:  1.09 ug/m^3\n"
     ]
    }
   ],
   "source": [
    "#Evaluate with test set\n",
    "loss,  mse = rnn.evaluate(x_test, y_test, verbose=2)\n",
    "pm25_max = 149.0\n",
    "pm25_min = 1.0\n",
    "mse = mse*(pm25_max-pm25_min) + pm25_min\n",
    "print(\"MSE of testset: {:5.2f} ug/m^3\".format(mse))"
   ]
  },
  {
   "cell_type": "code",
   "execution_count": 14,
   "id": "fe50486c-9478-4814-bd31-a3f90f3a1aac",
   "metadata": {},
   "outputs": [],
   "source": [
    "#de-normalization\n",
    "for i in range(len(y_test)):\n",
    "    y_test[i,0] = y_test[i,0]*(pm25_max-pm25_min)+pm25_min\n",
    "    test_predictions[i] = test_predictions[i]*(pm25_max-pm25_min)+pm25_min"
   ]
  },
  {
   "cell_type": "code",
   "execution_count": 15,
   "id": "aa7a1d99-aba3-4358-8ec4-9318d1910c4a",
   "metadata": {},
   "outputs": [
    {
     "data": {
      "image/png": "[encoded data removed]",
      "text/plain": [
       "<Figure size 432x288 with 1 Axes>"
      ]
     },
     "metadata": {
      "needs_background": "light"
     },
     "output_type": "display_data"
    }
   ],
   "source": [
    "#plot results\n",
    "plt.scatter(y_test, test_predictions)\n",
    "plt.xlabel('True Values')\n",
    "plt.ylabel('Predictions')\n",
    "plt.ylim([0,150])\n",
    "plt.xlim([0,150])\n",
    "plt.show()"
   ]
  },
  {
   "cell_type": "code",
   "execution_count": 16,
   "id": "79f8732e-1a04-4c2a-a169-00a5fa20f85f",
   "metadata": {},
   "outputs": [
    {
     "data": {
      "image/png": "[encoded data removed]",
      "text/plain": [
       "<Figure size 432x288 with 1 Axes>"
      ]
     },
     "metadata": {
      "needs_background": "light"
     },
     "output_type": "display_data"
    }
   ],
   "source": [
    "error = test_predictions - y_test\n",
    "plt.hist(error, 50)\n",
    "plt.xlabel(\"Prediction Error\")\n",
    "_ = plt.ylabel(\"Count\")"
   ]
  },
  {
   "cell_type": "code",
   "execution_count": null,
   "id": "dcea22de-ff08-4811-819c-8be9a2bc2934",
   "metadata": {},
   "outputs": [],
   "source": []
  }
 ],
 "metadata": {
  "kernelspec": {
   "display_name": "Python 3 (ipykernel)",
   "language": "python",
   "name": "python3"
  },
  "language_info": {
   "codemirror_mode": {
    "name": "ipython",
    "version": 3
   },
   "file_extension": ".py",
   "mimetype": "text/x-python",
   "name": "python",
   "nbconvert_exporter": "python",
   "pygments_lexer": "ipython3",
   "version": "3.7.11"
  }
 },
 "nbformat": 4,
 "nbformat_minor": 5
}
